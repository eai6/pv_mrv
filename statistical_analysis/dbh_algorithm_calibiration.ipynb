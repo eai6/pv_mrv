{
 "cells": [
  {
   "cell_type": "code",
   "execution_count": 3,
   "metadata": {},
   "outputs": [],
   "source": [
    "## Evaluate Annotated Trees ##\n",
    "\n",
    "#import requests\n",
    "import os\n",
    "import numpy as np\n",
    "import pandas as pd\n",
    "import matplotlib.pyplot as plt\n",
    "%matplotlib inline\n",
    "from sklearn.metrics import r2_score \n",
    "import math\n",
    "import seaborn as sns\n",
    "import shutil\n",
    "import sys\n",
    "import traceback\n",
    "#from mlxtend.plotting import plot_confusion_matrix\n",
    " "
   ]
  },
  {
   "cell_type": "code",
   "execution_count": 4,
   "metadata": {},
   "outputs": [],
   "source": [
    "sys.path.insert(0, \"../dbh_estimation_algorithm_FastAPI/scripts\")\n"
   ]
  },
  {
   "cell_type": "code",
   "execution_count": 5,
   "metadata": {},
   "outputs": [
    {
     "name": "stdout",
     "output_type": "stream",
     "text": [
      "Can not import scripts\n"
     ]
    }
   ],
   "source": [
    "import pixel_analyzer as pa \n",
    "from PIL import Image\n",
    "#import PIL\n",
    "from numpy import asarray"
   ]
  },
  {
   "cell_type": "code",
   "execution_count": 6,
   "metadata": {},
   "outputs": [],
   "source": [
    "trunk = [0,85,0]\n",
    "def isVertical(seg_image):\n",
    "    \"\"\" Takes a numpy array version of an image and return true if the tree in the image is vertical\"\"\"\n",
    "    Y, X, a = np.where(seg_image == trunk)\n",
    "    y_length = np.max(Y) - np.min(Y)\n",
    "    x_length = np.max(X) - np.min(X)\n",
    "\n",
    "    if (y_length/len(seg_image)) > x_length/len(seg_image[0]):\n",
    "        return True\n",
    "    return False"
   ]
  },
  {
   "cell_type": "code",
   "execution_count": 7,
   "metadata": {},
   "outputs": [],
   "source": [
    "# load measured and predicted dbh values\n",
    "calibration_data = pd.read_csv('../statistical_analysis/output/calibration_dataset.csv')"
   ]
  },
  {
   "cell_type": "code",
   "execution_count": 8,
   "metadata": {},
   "outputs": [],
   "source": [
    "#calibration_data"
   ]
  },
  {
   "cell_type": "code",
   "execution_count": 9,
   "metadata": {},
   "outputs": [
    {
     "data": {
      "text/html": [
       "<div>\n",
       "<style scoped>\n",
       "    .dataframe tbody tr th:only-of-type {\n",
       "        vertical-align: middle;\n",
       "    }\n",
       "\n",
       "    .dataframe tbody tr th {\n",
       "        vertical-align: top;\n",
       "    }\n",
       "\n",
       "    .dataframe thead th {\n",
       "        text-align: right;\n",
       "    }\n",
       "</style>\n",
       "<table border=\"1\" class=\"dataframe\">\n",
       "  <thead>\n",
       "    <tr style=\"text-align: right;\">\n",
       "      <th></th>\n",
       "      <th>tree_picture</th>\n",
       "      <th>measured_dbh</th>\n",
       "    </tr>\n",
       "  </thead>\n",
       "  <tbody>\n",
       "    <tr>\n",
       "      <th>0</th>\n",
       "      <td>1675934453966.jpg</td>\n",
       "      <td>38.5</td>\n",
       "    </tr>\n",
       "    <tr>\n",
       "      <th>1</th>\n",
       "      <td>1675844836804.jpg</td>\n",
       "      <td>5.0</td>\n",
       "    </tr>\n",
       "    <tr>\n",
       "      <th>2</th>\n",
       "      <td>1675329532298.jpg</td>\n",
       "      <td>12.9</td>\n",
       "    </tr>\n",
       "    <tr>\n",
       "      <th>3</th>\n",
       "      <td>1675149973263.jpg</td>\n",
       "      <td>38.0</td>\n",
       "    </tr>\n",
       "    <tr>\n",
       "      <th>4</th>\n",
       "      <td>1675323368595.jpg</td>\n",
       "      <td>7.0</td>\n",
       "    </tr>\n",
       "  </tbody>\n",
       "</table>\n",
       "</div>"
      ],
      "text/plain": [
       "        tree_picture  measured_dbh\n",
       "0  1675934453966.jpg          38.5\n",
       "1  1675844836804.jpg           5.0\n",
       "2  1675329532298.jpg          12.9\n",
       "3  1675149973263.jpg          38.0\n",
       "4  1675323368595.jpg           7.0"
      ]
     },
     "execution_count": 9,
     "metadata": {},
     "output_type": "execute_result"
    }
   ],
   "source": [
    "# just need the tree_picture id, and the measured dbh values for calibration with the ratio\n",
    "df3 = calibration_data[[\"tree_picture\", \"measured_dbh\"]]\n",
    "df3.head()"
   ]
  },
  {
   "cell_type": "code",
   "execution_count": 10,
   "metadata": {},
   "outputs": [
    {
     "name": "stdout",
     "output_type": "stream",
     "text": [
      "Traceback (most recent call last):\n",
      "  File \"/var/folders/t7/8xb6r8jx3_bd842lt0tnr6sr0000gn/T/ipykernel_26048/1203044228.py\", line 20, in <cell line: 8>\n",
      "    measured_dbh = df3[df3['tree_picture'] == image_file]['measured_dbh'].tolist()[0]\n",
      "IndexError: list index out of range\n",
      "\n",
      "During handling of the above exception, another exception occurred:\n",
      "\n",
      "Traceback (most recent call last):\n",
      "  File \"/var/folders/t7/8xb6r8jx3_bd842lt0tnr6sr0000gn/T/ipykernel_26048/1203044228.py\", line 25, in <cell line: 8>\n",
      "    measured_dbh = df3[df3['tree_picture'] == image_file]['measured_dbh'].tolist()[0]\n",
      "IndexError: list index out of range\n",
      "\n",
      "resized_original_1675061030506_color_mask.png\n",
      "Traceback (most recent call last):\n",
      "  File \"/var/folders/t7/8xb6r8jx3_bd842lt0tnr6sr0000gn/T/ipykernel_26048/1203044228.py\", line 13, in <cell line: 8>\n",
      "    seg_image = Image.open(os.path.join(annotated_trees_path, temp_image))\n",
      "  File \"/Users/edwardamoah/opt/anaconda3/envs/env_tensorflow/lib/python3.9/site-packages/PIL/Image.py\", line 2930, in open\n",
      "    raise UnidentifiedImageError(\n",
      "PIL.UnidentifiedImageError: cannot identify image file '../statistical_analysis/data/annotated_trees/.DS_Store'\n",
      "\n",
      ".DS_Store\n",
      "Traceback (most recent call last):\n",
      "  File \"/var/folders/t7/8xb6r8jx3_bd842lt0tnr6sr0000gn/T/ipykernel_26048/1203044228.py\", line 20, in <cell line: 8>\n",
      "    measured_dbh = df3[df3['tree_picture'] == image_file]['measured_dbh'].tolist()[0]\n",
      "IndexError: list index out of range\n",
      "\n",
      "During handling of the above exception, another exception occurred:\n",
      "\n",
      "Traceback (most recent call last):\n",
      "  File \"/var/folders/t7/8xb6r8jx3_bd842lt0tnr6sr0000gn/T/ipykernel_26048/1203044228.py\", line 25, in <cell line: 8>\n",
      "    measured_dbh = df3[df3['tree_picture'] == image_file]['measured_dbh'].tolist()[0]\n",
      "IndexError: list index out of range\n",
      "\n",
      "resized_original_1675327212425_color_mask.png\n",
      "Traceback (most recent call last):\n",
      "  File \"/var/folders/t7/8xb6r8jx3_bd842lt0tnr6sr0000gn/T/ipykernel_26048/1203044228.py\", line 20, in <cell line: 8>\n",
      "    measured_dbh = df3[df3['tree_picture'] == image_file]['measured_dbh'].tolist()[0]\n",
      "IndexError: list index out of range\n",
      "\n",
      "During handling of the above exception, another exception occurred:\n",
      "\n",
      "Traceback (most recent call last):\n",
      "  File \"/var/folders/t7/8xb6r8jx3_bd842lt0tnr6sr0000gn/T/ipykernel_26048/1203044228.py\", line 25, in <cell line: 8>\n",
      "    measured_dbh = df3[df3['tree_picture'] == image_file]['measured_dbh'].tolist()[0]\n",
      "IndexError: list index out of range\n",
      "\n",
      "resized_original_1675690011397_color_mask.png\n"
     ]
    }
   ],
   "source": [
    "# get predictions for dbh based on true annotations\n",
    "\n",
    "measured_dbhs = []\n",
    "ratios = []\n",
    "image_files = []\n",
    "zoom_files = []\n",
    "annotated_trees_path = '../statistical_analysis/data/annotated_trees'\n",
    "for temp_image  in os.listdir(annotated_trees_path):\n",
    "    zoom_file = False\n",
    "\n",
    "    try:\n",
    "\n",
    "        seg_image = Image.open(os.path.join(annotated_trees_path, temp_image))\n",
    "        seg_image1 = asarray(seg_image)\n",
    "        if not isVertical(seg_image1):\n",
    "            seg_image = seg_image.transpose(Image.ROTATE_90)\n",
    "            seg_image1 = asarray(seg_image)\n",
    "        try:\n",
    "            image_file = temp_image.split(\"_\")[2] + \".jpg\"\n",
    "            measured_dbh = df3[df3['tree_picture'] == image_file]['measured_dbh'].tolist()[0]\n",
    "            ratio = pa.getTreePixelWidth(seg_image1, image_file.split(\".\")[0] , measured_dbh, False, True)\n",
    "        except:\n",
    "            zoom_file = True\n",
    "            image_file = temp_image.split(\"_\")[3] + \".jpg\"\n",
    "            measured_dbh = df3[df3['tree_picture'] == image_file]['measured_dbh'].tolist()[0]\n",
    "            ratio = pa.getTreePixelWidth(seg_image1, image_file.split(\".\")[0] , measured_dbh, False, True)\n",
    "\n",
    "        measured_dbhs.append(measured_dbh)\n",
    "        ratios.append(ratio)\n",
    "        image_files.append(image_file)\n",
    "        zoom_files.append(zoom_file)\n",
    "    except:\n",
    "        print(traceback.format_exc())\n",
    "        print(temp_image)"
   ]
  },
  {
   "cell_type": "code",
   "execution_count": 11,
   "metadata": {},
   "outputs": [
    {
     "data": {
      "text/html": [
       "<div>\n",
       "<style scoped>\n",
       "    .dataframe tbody tr th:only-of-type {\n",
       "        vertical-align: middle;\n",
       "    }\n",
       "\n",
       "    .dataframe tbody tr th {\n",
       "        vertical-align: top;\n",
       "    }\n",
       "\n",
       "    .dataframe thead th {\n",
       "        text-align: right;\n",
       "    }\n",
       "</style>\n",
       "<table border=\"1\" class=\"dataframe\">\n",
       "  <thead>\n",
       "    <tr style=\"text-align: right;\">\n",
       "      <th></th>\n",
       "      <th>measured_dbh</th>\n",
       "      <th>ratio</th>\n",
       "      <th>tree_pictures</th>\n",
       "      <th>zoom_file</th>\n",
       "    </tr>\n",
       "  </thead>\n",
       "  <tbody>\n",
       "    <tr>\n",
       "      <th>0</th>\n",
       "      <td>23.6</td>\n",
       "      <td>3.366971</td>\n",
       "      <td>1675152045531.jpg</td>\n",
       "      <td>False</td>\n",
       "    </tr>\n",
       "    <tr>\n",
       "      <th>1</th>\n",
       "      <td>28.3</td>\n",
       "      <td>3.765978</td>\n",
       "      <td>1675152298141.jpg</td>\n",
       "      <td>True</td>\n",
       "    </tr>\n",
       "    <tr>\n",
       "      <th>2</th>\n",
       "      <td>25.0</td>\n",
       "      <td>3.262570</td>\n",
       "      <td>1675151454814.jpg</td>\n",
       "      <td>False</td>\n",
       "    </tr>\n",
       "    <tr>\n",
       "      <th>3</th>\n",
       "      <td>20.0</td>\n",
       "      <td>3.163814</td>\n",
       "      <td>1675243337239.jpg</td>\n",
       "      <td>True</td>\n",
       "    </tr>\n",
       "    <tr>\n",
       "      <th>4</th>\n",
       "      <td>40.7</td>\n",
       "      <td>6.089423</td>\n",
       "      <td>1675157721989.jpg</td>\n",
       "      <td>False</td>\n",
       "    </tr>\n",
       "  </tbody>\n",
       "</table>\n",
       "</div>"
      ],
      "text/plain": [
       "   measured_dbh     ratio      tree_pictures  zoom_file\n",
       "0          23.6  3.366971  1675152045531.jpg      False\n",
       "1          28.3  3.765978  1675152298141.jpg       True\n",
       "2          25.0  3.262570  1675151454814.jpg      False\n",
       "3          20.0  3.163814  1675243337239.jpg       True\n",
       "4          40.7  6.089423  1675157721989.jpg      False"
      ]
     },
     "execution_count": 11,
     "metadata": {},
     "output_type": "execute_result"
    }
   ],
   "source": [
    "df = pd.DataFrame({\n",
    "    \"measured_dbh\": measured_dbhs,\n",
    "    \"ratio\": ratios,\n",
    "    \"tree_pictures\": image_files,\n",
    "    \"zoom_file\": zoom_files\n",
    "})\n",
    "df.head()"
   ]
  },
  {
   "cell_type": "code",
   "execution_count": 12,
   "metadata": {},
   "outputs": [
    {
     "name": "stdout",
     "output_type": "stream",
     "text": [
      "52\n"
     ]
    },
    {
     "data": {
      "text/html": [
       "<div>\n",
       "<style scoped>\n",
       "    .dataframe tbody tr th:only-of-type {\n",
       "        vertical-align: middle;\n",
       "    }\n",
       "\n",
       "    .dataframe tbody tr th {\n",
       "        vertical-align: top;\n",
       "    }\n",
       "\n",
       "    .dataframe thead th {\n",
       "        text-align: right;\n",
       "    }\n",
       "</style>\n",
       "<table border=\"1\" class=\"dataframe\">\n",
       "  <thead>\n",
       "    <tr style=\"text-align: right;\">\n",
       "      <th></th>\n",
       "      <th>measured_dbh</th>\n",
       "      <th>ratio</th>\n",
       "      <th>tree_pictures</th>\n",
       "      <th>zoom_file</th>\n",
       "    </tr>\n",
       "  </thead>\n",
       "  <tbody>\n",
       "    <tr>\n",
       "      <th>1</th>\n",
       "      <td>28.3</td>\n",
       "      <td>3.765978</td>\n",
       "      <td>1675152298141.jpg</td>\n",
       "      <td>True</td>\n",
       "    </tr>\n",
       "    <tr>\n",
       "      <th>3</th>\n",
       "      <td>20.0</td>\n",
       "      <td>3.163814</td>\n",
       "      <td>1675243337239.jpg</td>\n",
       "      <td>True</td>\n",
       "    </tr>\n",
       "    <tr>\n",
       "      <th>5</th>\n",
       "      <td>16.7</td>\n",
       "      <td>2.665628</td>\n",
       "      <td>1675149279494.jpg</td>\n",
       "      <td>True</td>\n",
       "    </tr>\n",
       "    <tr>\n",
       "      <th>12</th>\n",
       "      <td>10.4</td>\n",
       "      <td>1.775979</td>\n",
       "      <td>1675065957914.jpg</td>\n",
       "      <td>True</td>\n",
       "    </tr>\n",
       "    <tr>\n",
       "      <th>13</th>\n",
       "      <td>23.2</td>\n",
       "      <td>3.430394</td>\n",
       "      <td>1675073200688.jpg</td>\n",
       "      <td>True</td>\n",
       "    </tr>\n",
       "  </tbody>\n",
       "</table>\n",
       "</div>"
      ],
      "text/plain": [
       "    measured_dbh     ratio      tree_pictures  zoom_file\n",
       "1           28.3  3.765978  1675152298141.jpg       True\n",
       "3           20.0  3.163814  1675243337239.jpg       True\n",
       "5           16.7  2.665628  1675149279494.jpg       True\n",
       "12          10.4  1.775979  1675065957914.jpg       True\n",
       "13          23.2  3.430394  1675073200688.jpg       True"
      ]
     },
     "execution_count": 12,
     "metadata": {},
     "output_type": "execute_result"
    }
   ],
   "source": [
    "df1 = df[df[\"zoom_file\"]== True]\n",
    "print(len(df1))\n",
    "df1.head()"
   ]
  },
  {
   "cell_type": "code",
   "execution_count": 13,
   "metadata": {},
   "outputs": [],
   "source": [
    "# save algorithm calibiration dataset\n",
    "#df1[[\"tree_pictures\",\"ratio\",\"measured_dbh\"]].to_csv(\"output/dbh_algorithm_calibiration_dataset.csv\")"
   ]
  },
  {
   "cell_type": "code",
   "execution_count": 14,
   "metadata": {},
   "outputs": [],
   "source": [
    "import pandas as pd\n",
    "import statsmodels.formula.api as smf"
   ]
  },
  {
   "cell_type": "code",
   "execution_count": 15,
   "metadata": {},
   "outputs": [],
   "source": [
    "calibration_data = df1[[\"ratio\", \"measured_dbh\"]]\n",
    "\n",
    "model = smf.ols('measured_dbh ~ ratio', data=calibration_data)\n",
    "model = model.fit()\n",
    "\n",
    "# prediction function\n",
    "def getPrediction(ratio):\n",
    "    try:\n",
    "        new_X = float(ratio)\n",
    "        pred = model.predict({\"ratio\": new_X})\n",
    "        return round(pred.tolist()[0],2)\n",
    "    except:\n",
    "        return None"
   ]
  },
  {
   "cell_type": "code",
   "execution_count": 16,
   "metadata": {},
   "outputs": [],
   "source": [
    "#calibration_data['predicted_dbh'] = calibration_data['ratio'].apply(getPrediction)"
   ]
  },
  {
   "cell_type": "code",
   "execution_count": 17,
   "metadata": {},
   "outputs": [
    {
     "data": {
      "text/plain": [
       "Text(0.5, 1.0, 'Algorithm Calibration Linear Regression Model (n=52)')"
      ]
     },
     "execution_count": 17,
     "metadata": {},
     "output_type": "execute_result"
    },
    {
     "data": {
      "image/png": "[encoded data removed]",
      "text/plain": [
       "<Figure size 640x480 with 1 Axes>"
      ]
     },
     "metadata": {},
     "output_type": "display_data"
    }
   ],
   "source": [
    "plt.scatter(calibration_data['ratio'], calibration_data['measured_dbh'])\n",
    "\n",
    "x = np.array(calibration_data['ratio']); y = np.array( [ float(x) for x in calibration_data['measured_dbh']])\n",
    "a, b = np.polyfit(x, y , 1)\n",
    "\n",
    "#plt.scatter(x, y, color='purple')\n",
    "plt.plot(x, a*x+b, linestyle='--', linewidth=2, color='green')\n",
    "\n",
    "# add fitted regression equation to plot\n",
    "plt.text(1.5, 30, 'y = ' + '{:.2f}'.format(b) + ' + {:.2f}'.format(a) + 'x', size=10)\n",
    "\n",
    "\n",
    "plt.ylabel(\"Measured DBH (cm)\")\n",
    "plt.xlabel(\"Tree-to-Tag Ratio\")\n",
    "plt.title(\"Algorithm Calibration Linear Regression Model (n=52)\")"
   ]
  },
  {
   "cell_type": "code",
   "execution_count": null,
   "metadata": {},
   "outputs": [],
   "source": []
  }
 ],
 "metadata": {
  "kernelspec": {
   "display_name": "env_tensorflow",
   "language": "python",
   "name": "env_tensorflow"
  },
  "language_info": {
   "codemirror_mode": {
    "name": "ipython",
    "version": 3
   },
   "file_extension": ".py",
   "mimetype": "text/x-python",
   "name": "python",
   "nbconvert_exporter": "python",
   "pygments_lexer": "ipython3",
   "version": "3.9.13"
  },
  "orig_nbformat": 4
 },
 "nbformat": 4,
 "nbformat_minor": 2
}
