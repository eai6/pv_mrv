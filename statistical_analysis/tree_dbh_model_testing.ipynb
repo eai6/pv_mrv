{
 "cells": [
  {
   "cell_type": "code",
   "execution_count": 1,
   "metadata": {},
   "outputs": [],
   "source": [
    "import requests\n",
    "import os\n",
    "import numpy as np\n",
    "import pandas as pd\n",
    "import matplotlib.pyplot as plt\n",
    "%matplotlib inline\n",
    "from sklearn.metrics import r2_score \n",
    "import math\n",
    "import seaborn as sns\n",
    "import shutil"
   ]
  },
  {
   "cell_type": "code",
   "execution_count": 2,
   "metadata": {},
   "outputs": [],
   "source": [
    "# odk data for the evaluation and testing data \n",
    "media_path = \"/Users/edwardamoah/Documents/GitHub/pv_mrv/statistical_analysis/data/odk_data/media\"\n",
    "trees_path = \"/Users/edwardamoah/Documents/GitHub/pv_mrv/statistical_analysis/data/odk_data/Tree-Segmentation-tree.csv\"\n",
    "surveys_path = \"/Users/edwardamoah/Documents/GitHub/pv_mrv/statistical_analysis/data/odk_data/Tree-Segmentation.csv\""
   ]
  },
  {
   "cell_type": "code",
   "execution_count": 3,
   "metadata": {},
   "outputs": [
    {
     "data": {
      "text/html": [
       "<div>\n",
       "<style scoped>\n",
       "    .dataframe tbody tr th:only-of-type {\n",
       "        vertical-align: middle;\n",
       "    }\n",
       "\n",
       "    .dataframe tbody tr th {\n",
       "        vertical-align: top;\n",
       "    }\n",
       "\n",
       "    .dataframe thead th {\n",
       "        text-align: right;\n",
       "    }\n",
       "</style>\n",
       "<table border=\"1\" class=\"dataframe\">\n",
       "  <thead>\n",
       "    <tr style=\"text-align: right;\">\n",
       "      <th></th>\n",
       "      <th>tree_height</th>\n",
       "      <th>tree_dbh</th>\n",
       "      <th>dbh_picture</th>\n",
       "      <th>tree_picture</th>\n",
       "      <th>tagged</th>\n",
       "      <th>PARENT_KEY</th>\n",
       "      <th>KEY</th>\n",
       "    </tr>\n",
       "  </thead>\n",
       "  <tbody>\n",
       "    <tr>\n",
       "      <th>0</th>\n",
       "      <td>1675934352599.jpg</td>\n",
       "      <td>38.5</td>\n",
       "      <td>1675934420893.jpg</td>\n",
       "      <td>1675934453966.jpg</td>\n",
       "      <td>True</td>\n",
       "      <td>uuid:dd297526-8c25-4739-bd7b-da6f60ff5af8</td>\n",
       "      <td>uuid:dd297526-8c25-4739-bd7b-da6f60ff5af8/tree[1]</td>\n",
       "    </tr>\n",
       "    <tr>\n",
       "      <th>1</th>\n",
       "      <td>1675934663170.jpg</td>\n",
       "      <td>37.6</td>\n",
       "      <td>1675934751321.jpg</td>\n",
       "      <td>1675934772605.jpg</td>\n",
       "      <td>True</td>\n",
       "      <td>uuid:dd297526-8c25-4739-bd7b-da6f60ff5af8</td>\n",
       "      <td>uuid:dd297526-8c25-4739-bd7b-da6f60ff5af8/tree[2]</td>\n",
       "    </tr>\n",
       "    <tr>\n",
       "      <th>2</th>\n",
       "      <td>NaN</td>\n",
       "      <td>30.0</td>\n",
       "      <td>1675927406327.jpg</td>\n",
       "      <td>1675927458697.jpg</td>\n",
       "      <td>True</td>\n",
       "      <td>uuid:36348ace-73e5-470a-a5c4-5840313cbda3</td>\n",
       "      <td>uuid:36348ace-73e5-470a-a5c4-5840313cbda3/tree[1]</td>\n",
       "    </tr>\n",
       "    <tr>\n",
       "      <th>3</th>\n",
       "      <td>NaN</td>\n",
       "      <td>36.1</td>\n",
       "      <td>1675927574456.jpg</td>\n",
       "      <td>1675927603450.jpg</td>\n",
       "      <td>True</td>\n",
       "      <td>uuid:36348ace-73e5-470a-a5c4-5840313cbda3</td>\n",
       "      <td>uuid:36348ace-73e5-470a-a5c4-5840313cbda3/tree[2]</td>\n",
       "    </tr>\n",
       "    <tr>\n",
       "      <th>4</th>\n",
       "      <td>NaN</td>\n",
       "      <td>30.3</td>\n",
       "      <td>1675927703794.jpg</td>\n",
       "      <td>1675927823347.jpg</td>\n",
       "      <td>True</td>\n",
       "      <td>uuid:36348ace-73e5-470a-a5c4-5840313cbda3</td>\n",
       "      <td>uuid:36348ace-73e5-470a-a5c4-5840313cbda3/tree[3]</td>\n",
       "    </tr>\n",
       "  </tbody>\n",
       "</table>\n",
       "</div>"
      ],
      "text/plain": [
       "         tree_height  tree_dbh        dbh_picture       tree_picture  tagged  \\\n",
       "0  1675934352599.jpg      38.5  1675934420893.jpg  1675934453966.jpg    True   \n",
       "1  1675934663170.jpg      37.6  1675934751321.jpg  1675934772605.jpg    True   \n",
       "2                NaN      30.0  1675927406327.jpg  1675927458697.jpg    True   \n",
       "3                NaN      36.1  1675927574456.jpg  1675927603450.jpg    True   \n",
       "4                NaN      30.3  1675927703794.jpg  1675927823347.jpg    True   \n",
       "\n",
       "                                  PARENT_KEY  \\\n",
       "0  uuid:dd297526-8c25-4739-bd7b-da6f60ff5af8   \n",
       "1  uuid:dd297526-8c25-4739-bd7b-da6f60ff5af8   \n",
       "2  uuid:36348ace-73e5-470a-a5c4-5840313cbda3   \n",
       "3  uuid:36348ace-73e5-470a-a5c4-5840313cbda3   \n",
       "4  uuid:36348ace-73e5-470a-a5c4-5840313cbda3   \n",
       "\n",
       "                                                 KEY  \n",
       "0  uuid:dd297526-8c25-4739-bd7b-da6f60ff5af8/tree[1]  \n",
       "1  uuid:dd297526-8c25-4739-bd7b-da6f60ff5af8/tree[2]  \n",
       "2  uuid:36348ace-73e5-470a-a5c4-5840313cbda3/tree[1]  \n",
       "3  uuid:36348ace-73e5-470a-a5c4-5840313cbda3/tree[2]  \n",
       "4  uuid:36348ace-73e5-470a-a5c4-5840313cbda3/tree[3]  "
      ]
     },
     "execution_count": 3,
     "metadata": {},
     "output_type": "execute_result"
    }
   ],
   "source": [
    "trees = pd.read_csv(trees_path)\n",
    "trees.head()"
   ]
  },
  {
   "cell_type": "code",
   "execution_count": 4,
   "metadata": {},
   "outputs": [
    {
     "data": {
      "text/html": [
       "<div>\n",
       "<style scoped>\n",
       "    .dataframe tbody tr th:only-of-type {\n",
       "        vertical-align: middle;\n",
       "    }\n",
       "\n",
       "    .dataframe tbody tr th {\n",
       "        vertical-align: top;\n",
       "    }\n",
       "\n",
       "    .dataframe thead th {\n",
       "        text-align: right;\n",
       "    }\n",
       "</style>\n",
       "<table border=\"1\" class=\"dataframe\">\n",
       "  <thead>\n",
       "    <tr style=\"text-align: right;\">\n",
       "      <th></th>\n",
       "      <th>SubmissionDate</th>\n",
       "      <th>meta-instanceID</th>\n",
       "      <th>tape</th>\n",
       "      <th>KEY</th>\n",
       "      <th>SubmitterID</th>\n",
       "      <th>SubmitterName</th>\n",
       "      <th>AttachmentsPresent</th>\n",
       "      <th>AttachmentsExpected</th>\n",
       "      <th>Status</th>\n",
       "      <th>ReviewState</th>\n",
       "      <th>DeviceID</th>\n",
       "      <th>Edits</th>\n",
       "      <th>FormVersion</th>\n",
       "    </tr>\n",
       "  </thead>\n",
       "  <tbody>\n",
       "    <tr>\n",
       "      <th>0</th>\n",
       "      <td>2023-02-09T09:29:04.134Z</td>\n",
       "      <td>uuid:dd297526-8c25-4739-bd7b-da6f60ff5af8</td>\n",
       "      <td>diameter</td>\n",
       "      <td>uuid:dd297526-8c25-4739-bd7b-da6f60ff5af8</td>\n",
       "      <td>2288</td>\n",
       "      <td>Edna Santa</td>\n",
       "      <td>6</td>\n",
       "      <td>6</td>\n",
       "      <td>NaN</td>\n",
       "      <td>approved</td>\n",
       "      <td>collect:Vj0q9GQP0zqbfLwF</td>\n",
       "      <td>0</td>\n",
       "      <td>1661527221</td>\n",
       "    </tr>\n",
       "    <tr>\n",
       "      <th>1</th>\n",
       "      <td>2023-02-09T07:31:13.315Z</td>\n",
       "      <td>uuid:36348ace-73e5-470a-a5c4-5840313cbda3</td>\n",
       "      <td>diameter</td>\n",
       "      <td>uuid:36348ace-73e5-470a-a5c4-5840313cbda3</td>\n",
       "      <td>697</td>\n",
       "      <td>Chelsea</td>\n",
       "      <td>6</td>\n",
       "      <td>6</td>\n",
       "      <td>NaN</td>\n",
       "      <td>approved</td>\n",
       "      <td>collect:mL5vu2SFBbwzPFid</td>\n",
       "      <td>0</td>\n",
       "      <td>1661527221</td>\n",
       "    </tr>\n",
       "    <tr>\n",
       "      <th>2</th>\n",
       "      <td>2023-02-09T07:23:00.751Z</td>\n",
       "      <td>uuid:aaa40b2f-2e00-468a-ab82-6b469c450b9f</td>\n",
       "      <td>diameter</td>\n",
       "      <td>uuid:32c56ff4-e7d5-4371-ade8-8f780843c3d0</td>\n",
       "      <td>697</td>\n",
       "      <td>Chelsea</td>\n",
       "      <td>16</td>\n",
       "      <td>16</td>\n",
       "      <td>NaN</td>\n",
       "      <td>approved</td>\n",
       "      <td>collect:mL5vu2SFBbwzPFid</td>\n",
       "      <td>1</td>\n",
       "      <td>1661527221</td>\n",
       "    </tr>\n",
       "    <tr>\n",
       "      <th>3</th>\n",
       "      <td>2023-02-08T13:10:28.964Z</td>\n",
       "      <td>uuid:aa6aedb8-d5d5-47ce-a31b-e0195ddde8b6</td>\n",
       "      <td>diameter</td>\n",
       "      <td>uuid:aa6aedb8-d5d5-47ce-a31b-e0195ddde8b6</td>\n",
       "      <td>2020</td>\n",
       "      <td>Nancy Titus</td>\n",
       "      <td>12</td>\n",
       "      <td>12</td>\n",
       "      <td>NaN</td>\n",
       "      <td>approved</td>\n",
       "      <td>collect:6Li3ZoyXMyhwZv6V</td>\n",
       "      <td>0</td>\n",
       "      <td>1661527221</td>\n",
       "    </tr>\n",
       "    <tr>\n",
       "      <th>4</th>\n",
       "      <td>2023-02-08T09:44:41.605Z</td>\n",
       "      <td>uuid:b369384c-d68e-4f3f-9988-00f1d1112411</td>\n",
       "      <td>diameter</td>\n",
       "      <td>uuid:b369384c-d68e-4f3f-9988-00f1d1112411</td>\n",
       "      <td>1424</td>\n",
       "      <td>Maureen Kalegi</td>\n",
       "      <td>3</td>\n",
       "      <td>3</td>\n",
       "      <td>NaN</td>\n",
       "      <td>approved</td>\n",
       "      <td>collect:pPniH3MXpCFPaExY</td>\n",
       "      <td>0</td>\n",
       "      <td>1661527221</td>\n",
       "    </tr>\n",
       "  </tbody>\n",
       "</table>\n",
       "</div>"
      ],
      "text/plain": [
       "             SubmissionDate                            meta-instanceID  \\\n",
       "0  2023-02-09T09:29:04.134Z  uuid:dd297526-8c25-4739-bd7b-da6f60ff5af8   \n",
       "1  2023-02-09T07:31:13.315Z  uuid:36348ace-73e5-470a-a5c4-5840313cbda3   \n",
       "2  2023-02-09T07:23:00.751Z  uuid:aaa40b2f-2e00-468a-ab82-6b469c450b9f   \n",
       "3  2023-02-08T13:10:28.964Z  uuid:aa6aedb8-d5d5-47ce-a31b-e0195ddde8b6   \n",
       "4  2023-02-08T09:44:41.605Z  uuid:b369384c-d68e-4f3f-9988-00f1d1112411   \n",
       "\n",
       "       tape                                        KEY  SubmitterID  \\\n",
       "0  diameter  uuid:dd297526-8c25-4739-bd7b-da6f60ff5af8         2288   \n",
       "1  diameter  uuid:36348ace-73e5-470a-a5c4-5840313cbda3          697   \n",
       "2  diameter  uuid:32c56ff4-e7d5-4371-ade8-8f780843c3d0          697   \n",
       "3  diameter  uuid:aa6aedb8-d5d5-47ce-a31b-e0195ddde8b6         2020   \n",
       "4  diameter  uuid:b369384c-d68e-4f3f-9988-00f1d1112411         1424   \n",
       "\n",
       "    SubmitterName  AttachmentsPresent  AttachmentsExpected  Status  \\\n",
       "0      Edna Santa                   6                    6     NaN   \n",
       "1         Chelsea                   6                    6     NaN   \n",
       "2         Chelsea                  16                   16     NaN   \n",
       "3     Nancy Titus                  12                   12     NaN   \n",
       "4  Maureen Kalegi                   3                    3     NaN   \n",
       "\n",
       "  ReviewState                  DeviceID  Edits  FormVersion  \n",
       "0    approved  collect:Vj0q9GQP0zqbfLwF      0   1661527221  \n",
       "1    approved  collect:mL5vu2SFBbwzPFid      0   1661527221  \n",
       "2    approved  collect:mL5vu2SFBbwzPFid      1   1661527221  \n",
       "3    approved  collect:6Li3ZoyXMyhwZv6V      0   1661527221  \n",
       "4    approved  collect:pPniH3MXpCFPaExY      0   1661527221  "
      ]
     },
     "execution_count": 4,
     "metadata": {},
     "output_type": "execute_result"
    }
   ],
   "source": [
    "surveys = pd.read_csv(surveys_path)\n",
    "surveys.head()"
   ]
  },
  {
   "cell_type": "code",
   "execution_count": 5,
   "metadata": {},
   "outputs": [],
   "source": [
    "# filter surveys that were approved on odk central panel\n",
    "testing_keys = surveys[surveys['ReviewState'] == 'approved'][\"KEY\"].tolist()\n",
    "\n",
    "def getTestingDataset(parent_key):\n",
    "    if parent_key in testing_keys:\n",
    "        return True\n",
    "    else:\n",
    "        return False\n",
    "\n",
    "testing_trees = trees[trees.PARENT_KEY.apply(getTestingDataset)]"
   ]
  },
  {
   "cell_type": "code",
   "execution_count": 6,
   "metadata": {},
   "outputs": [
    {
     "data": {
      "text/plain": [
       "206"
      ]
     },
     "execution_count": 6,
     "metadata": {},
     "output_type": "execute_result"
    }
   ],
   "source": [
    "# number of images for testing \n",
    "tree_pictures = testing_trees['tree_picture'].tolist()\n",
    "len(tree_pictures)"
   ]
  },
  {
   "cell_type": "code",
   "execution_count": 7,
   "metadata": {},
   "outputs": [],
   "source": [
    "# Confirm which survey images are available for analysis\n",
    "downloaded_images = []\n",
    "for image in tree_pictures:\n",
    "    if image in os.listdir(media_path):\n",
    "        downloaded_images.append(image)"
   ]
  },
  {
   "cell_type": "code",
   "execution_count": 8,
   "metadata": {},
   "outputs": [],
   "source": [
    "# generate complete path for tree images that exist\n",
    "downloaded_image_paths = [os.path.join(media_path, image) for image in downloaded_images]"
   ]
  },
  {
   "cell_type": "code",
   "execution_count": 9,
   "metadata": {},
   "outputs": [],
   "source": [
    "# functions to get dbh estimation for an image. The dbh estimation algorithm FastAPI must be running locally. \n",
    "\n",
    "def getDBH(temp_image, measured_dbh):\n",
    "    try:\n",
    "\n",
    "        url = f'http://127.0.0.1:8000/recognize/{measured_dbh}'\n",
    "\n",
    "        file = {'uploaded_file': open(temp_image, 'rb')}\n",
    "\n",
    "        r = requests.post(url, files=file)\n",
    "\n",
    "        dbh = eval(r.text)['dbh']\n",
    "\n",
    "        return dbh\n",
    "        \n",
    "    except:\n",
    "        return None"
   ]
  },
  {
   "cell_type": "code",
   "execution_count": 10,
   "metadata": {},
   "outputs": [],
   "source": [
    "# make a new dataframe with tree picture, and its location\n",
    "df = pd.DataFrame({\n",
    "    'tree_picture': downloaded_images,\n",
    "    'image_path': downloaded_image_paths\n",
    "})"
   ]
  },
  {
   "cell_type": "code",
   "execution_count": 11,
   "metadata": {},
   "outputs": [
    {
     "data": {
      "text/html": [
       "<div>\n",
       "<style scoped>\n",
       "    .dataframe tbody tr th:only-of-type {\n",
       "        vertical-align: middle;\n",
       "    }\n",
       "\n",
       "    .dataframe tbody tr th {\n",
       "        vertical-align: top;\n",
       "    }\n",
       "\n",
       "    .dataframe thead th {\n",
       "        text-align: right;\n",
       "    }\n",
       "</style>\n",
       "<table border=\"1\" class=\"dataframe\">\n",
       "  <thead>\n",
       "    <tr style=\"text-align: right;\">\n",
       "      <th></th>\n",
       "      <th>tree_picture</th>\n",
       "      <th>image_path</th>\n",
       "      <th>tree_dbh</th>\n",
       "      <th>PARENT_KEY</th>\n",
       "    </tr>\n",
       "  </thead>\n",
       "  <tbody>\n",
       "    <tr>\n",
       "      <th>0</th>\n",
       "      <td>1675934453966.jpg</td>\n",
       "      <td>/Users/edwardamoah/Documents/GitHub/pv_mrv/sta...</td>\n",
       "      <td>38.5</td>\n",
       "      <td>uuid:dd297526-8c25-4739-bd7b-da6f60ff5af8</td>\n",
       "    </tr>\n",
       "    <tr>\n",
       "      <th>1</th>\n",
       "      <td>1675934772605.jpg</td>\n",
       "      <td>/Users/edwardamoah/Documents/GitHub/pv_mrv/sta...</td>\n",
       "      <td>37.6</td>\n",
       "      <td>uuid:dd297526-8c25-4739-bd7b-da6f60ff5af8</td>\n",
       "    </tr>\n",
       "    <tr>\n",
       "      <th>2</th>\n",
       "      <td>1675927458697.jpg</td>\n",
       "      <td>/Users/edwardamoah/Documents/GitHub/pv_mrv/sta...</td>\n",
       "      <td>30.0</td>\n",
       "      <td>uuid:36348ace-73e5-470a-a5c4-5840313cbda3</td>\n",
       "    </tr>\n",
       "    <tr>\n",
       "      <th>3</th>\n",
       "      <td>1675927603450.jpg</td>\n",
       "      <td>/Users/edwardamoah/Documents/GitHub/pv_mrv/sta...</td>\n",
       "      <td>36.1</td>\n",
       "      <td>uuid:36348ace-73e5-470a-a5c4-5840313cbda3</td>\n",
       "    </tr>\n",
       "    <tr>\n",
       "      <th>4</th>\n",
       "      <td>1675927823347.jpg</td>\n",
       "      <td>/Users/edwardamoah/Documents/GitHub/pv_mrv/sta...</td>\n",
       "      <td>30.3</td>\n",
       "      <td>uuid:36348ace-73e5-470a-a5c4-5840313cbda3</td>\n",
       "    </tr>\n",
       "  </tbody>\n",
       "</table>\n",
       "</div>"
      ],
      "text/plain": [
       "        tree_picture                                         image_path  \\\n",
       "0  1675934453966.jpg  /Users/edwardamoah/Documents/GitHub/pv_mrv/sta...   \n",
       "1  1675934772605.jpg  /Users/edwardamoah/Documents/GitHub/pv_mrv/sta...   \n",
       "2  1675927458697.jpg  /Users/edwardamoah/Documents/GitHub/pv_mrv/sta...   \n",
       "3  1675927603450.jpg  /Users/edwardamoah/Documents/GitHub/pv_mrv/sta...   \n",
       "4  1675927823347.jpg  /Users/edwardamoah/Documents/GitHub/pv_mrv/sta...   \n",
       "\n",
       "   tree_dbh                                 PARENT_KEY  \n",
       "0      38.5  uuid:dd297526-8c25-4739-bd7b-da6f60ff5af8  \n",
       "1      37.6  uuid:dd297526-8c25-4739-bd7b-da6f60ff5af8  \n",
       "2      30.0  uuid:36348ace-73e5-470a-a5c4-5840313cbda3  \n",
       "3      36.1  uuid:36348ace-73e5-470a-a5c4-5840313cbda3  \n",
       "4      30.3  uuid:36348ace-73e5-470a-a5c4-5840313cbda3  "
      ]
     },
     "execution_count": 11,
     "metadata": {},
     "output_type": "execute_result"
    }
   ],
   "source": [
    "# merge the dataframe from above with the orginal dataset to add the measured_dbh values\n",
    "df= df.merge(trees[['tree_picture', 'tree_dbh', 'PARENT_KEY']], on='tree_picture')\n",
    "df.head()"
   ]
  },
  {
   "cell_type": "code",
   "execution_count": 12,
   "metadata": {},
   "outputs": [],
   "source": [
    "# standardized dbh measurements. Some of the measurements were done with standard tape and others with diameter tapes. Make them all a diameter measurement\n",
    "diameter = surveys[surveys['tape'] == 'diameter']['KEY'].tolist()\n",
    "standard = surveys[surveys['tape'] == 'standard']['KEY'].tolist()\n",
    "\n",
    "\n",
    "def getTape(parent_key):\n",
    "    if parent_key in diameter:\n",
    "        return \"diameter\"\n",
    "    elif parent_key in standard:\n",
    "        return \"standard\"\n",
    "    else:\n",
    "        return None\n",
    "\n",
    "df['tape'] = df[\"PARENT_KEY\"].apply(getTape)\n",
    "\n",
    "def getMeasuredDBH(tree_dbh, tape):\n",
    "    if tape == 'diameter':\n",
    "        return tree_dbh\n",
    "    elif tape == 'standard':\n",
    "        return round(tree_dbh/math.pi, 2)\n",
    "    else:\n",
    "        return None\n",
    "\n",
    "df['measured_dbh'] = df.apply(lambda x: getMeasuredDBH(x['tree_dbh'],x['tape']), axis=1)\n"
   ]
  },
  {
   "cell_type": "code",
   "execution_count": 13,
   "metadata": {},
   "outputs": [],
   "source": [
    "# helper function to group data into buckets for dbh ranges\n",
    "def getRange(dbh):\n",
    "    if dbh < 5:\n",
    "        return \"0-05\"\n",
    "    elif dbh < 10:\n",
    "        return \"05-10\"\n",
    "    elif dbh < 15:\n",
    "        return \"10-15\"\n",
    "    elif dbh < 20:\n",
    "        return \"15-20\"\n",
    "    elif dbh < 25:\n",
    "        return \"20-25\"\n",
    "    elif dbh < 30:\n",
    "        return \"25-30\"\n",
    "    elif dbh < 35:\n",
    "        return \"30-35\"\n",
    "    elif dbh < 40:\n",
    "        return \"35-40\"\n",
    "    elif dbh < 45:\n",
    "        return \"40-45\"\n",
    "    elif dbh > 45:\n",
    "        return \"45+\"\n"
   ]
  },
  {
   "cell_type": "code",
   "execution_count": 14,
   "metadata": {},
   "outputs": [],
   "source": [
    "# apply helper function above on the measured dbh values\n",
    "df['range'] = df.measured_dbh.apply(getRange)"
   ]
  },
  {
   "cell_type": "code",
   "execution_count": 15,
   "metadata": {},
   "outputs": [
    {
     "data": {
      "text/plain": [
       "205"
      ]
     },
     "execution_count": 15,
     "metadata": {},
     "output_type": "execute_result"
    }
   ],
   "source": [
    "# drop out dataset with no submission for tree image, or actual dbh measurement\n",
    "df = df.dropna()\n",
    "len(df)"
   ]
  },
  {
   "cell_type": "code",
   "execution_count": 16,
   "metadata": {},
   "outputs": [
    {
     "data": {
      "text/plain": [
       "Text(0, 0.5, 'Frequency')"
      ]
     },
     "execution_count": 16,
     "metadata": {},
     "output_type": "execute_result"
    },
    {
     "data": {
      "image/png": "[encoded data removed]",
      "text/plain": [
       "<Figure size 432x288 with 1 Axes>"
      ]
     },
     "metadata": {
      "needs_background": "light"
     },
     "output_type": "display_data"
    }
   ],
   "source": [
    "# Distribution of dataset\n",
    "df.groupby('range').count()['tree_picture'].plot.bar()\n",
    "plt.title(f'Distribution of Testing Dataset (n={len(df)})')\n",
    "plt.xlabel(\"Measured DBH Range\")\n",
    "plt.ylabel(\"Frequency\")"
   ]
  },
  {
   "cell_type": "code",
   "execution_count": 17,
   "metadata": {},
   "outputs": [],
   "source": [
    "# This doesn't do anything important. I used it before to do some sampling experiments\n",
    "df_sample = df #.sample(n=170) # sub-sample\n",
    "#len(df_sample)"
   ]
  },
  {
   "cell_type": "code",
   "execution_count": 18,
   "metadata": {},
   "outputs": [
    {
     "data": {
      "text/plain": [
       "52"
      ]
     },
     "execution_count": 18,
     "metadata": {},
     "output_type": "execute_result"
    }
   ],
   "source": [
    "# filter out calibiration dataset \n",
    "# load file names of images that were used for calibrating the model to seperate them from the evaluation of the model\n",
    "calibiration = os.listdir('/Users/edwardamoah/Documents/GitHub/pv_mrv/statistical_analysis/data/annotated_trees')\n",
    "calibiration = [val for val in calibiration if \"zoomed\" in val]\n",
    "calibiration = [val.split(\"_\")[3]+\".jpg\" for val in calibiration]\n",
    "len(calibiration)\n",
    "# there are 52 images that were used for calibiration"
   ]
  },
  {
   "cell_type": "code",
   "execution_count": 19,
   "metadata": {},
   "outputs": [],
   "source": [
    "# function to check if an image is in the calibration dataset\n",
    "def isCalibirationData(tree_pic):\n",
    "    if tree_pic in calibiration:\n",
    "        return True\n",
    "    return False\n",
    "\n",
    "def isNotCalibirationData(tree_pic):\n",
    "    return not isCalibirationData(tree_pic)"
   ]
  },
  {
   "cell_type": "code",
   "execution_count": 20,
   "metadata": {},
   "outputs": [
    {
     "data": {
      "text/plain": [
       "Text(0, 0.5, 'Frequency')"
      ]
     },
     "execution_count": 20,
     "metadata": {},
     "output_type": "execute_result"
    },
    {
     "data": {
      "image/png": "[encoded data removed]",
      "text/plain": [
       "<Figure size 432x288 with 1 Axes>"
      ]
     },
     "metadata": {
      "needs_background": "light"
     },
     "output_type": "display_data"
    }
   ],
   "source": [
    "# Make a plot for the distribution of the calibration dataset\n",
    "t = df_sample[ df_sample[\"tree_picture\"].apply(isCalibirationData)]\n",
    "t.groupby('range').count()['tree_picture'].plot.bar()\n",
    "plt.title(f'Distribution of Calibration Dataset (n={len(t)})')\n",
    "plt.xlabel(\"Measured DBH Range\")\n",
    "plt.ylabel(\"Frequency\")"
   ]
  },
  {
   "cell_type": "code",
   "execution_count": 21,
   "metadata": {},
   "outputs": [],
   "source": [
    "df_sample = df_sample[df_sample[\"tree_picture\"].apply(isNotCalibirationData)] # filter out calibration dataset"
   ]
  },
  {
   "cell_type": "code",
   "execution_count": 22,
   "metadata": {},
   "outputs": [
    {
     "data": {
      "text/plain": [
       "144"
      ]
     },
     "execution_count": 22,
     "metadata": {},
     "output_type": "execute_result"
    }
   ],
   "source": [
    "# filter out dataset where measured dbh < 5\n",
    "df_sample = df_sample[df_sample[\"measured_dbh\"]>=5]\n",
    "len(df_sample)"
   ]
  },
  {
   "cell_type": "code",
   "execution_count": 23,
   "metadata": {},
   "outputs": [],
   "source": [
    "# Get dbh predictions for all dataset \n",
    "df_sample['predicted_dbh'] = df_sample.apply(lambda x: getDBH(x['image_path'], x['measured_dbh']), axis=1)"
   ]
  },
  {
   "cell_type": "code",
   "execution_count": 24,
   "metadata": {},
   "outputs": [],
   "source": [
    "# function to check if a prediction was made \n",
    "def isfloat(x):\n",
    "    return type(x) == float"
   ]
  },
  {
   "cell_type": "code",
   "execution_count": 25,
   "metadata": {},
   "outputs": [],
   "source": [
    "# check that a prediction was made for each image\n",
    "df_sample['calculated'] = df_sample['predicted_dbh'].apply(isfloat)"
   ]
  },
  {
   "cell_type": "code",
   "execution_count": 26,
   "metadata": {},
   "outputs": [
    {
     "data": {
      "text/html": [
       "<div>\n",
       "<style scoped>\n",
       "    .dataframe tbody tr th:only-of-type {\n",
       "        vertical-align: middle;\n",
       "    }\n",
       "\n",
       "    .dataframe tbody tr th {\n",
       "        vertical-align: top;\n",
       "    }\n",
       "\n",
       "    .dataframe thead th {\n",
       "        text-align: right;\n",
       "    }\n",
       "</style>\n",
       "<table border=\"1\" class=\"dataframe\">\n",
       "  <thead>\n",
       "    <tr style=\"text-align: right;\">\n",
       "      <th></th>\n",
       "      <th>tree_picture</th>\n",
       "      <th>image_path</th>\n",
       "      <th>tree_dbh</th>\n",
       "      <th>PARENT_KEY</th>\n",
       "      <th>tape</th>\n",
       "      <th>measured_dbh</th>\n",
       "      <th>range</th>\n",
       "      <th>calculated</th>\n",
       "    </tr>\n",
       "    <tr>\n",
       "      <th>predicted_dbh</th>\n",
       "      <th></th>\n",
       "      <th></th>\n",
       "      <th></th>\n",
       "      <th></th>\n",
       "      <th></th>\n",
       "      <th></th>\n",
       "      <th></th>\n",
       "      <th></th>\n",
       "    </tr>\n",
       "  </thead>\n",
       "  <tbody>\n",
       "  </tbody>\n",
       "</table>\n",
       "</div>"
      ],
      "text/plain": [
       "Empty DataFrame\n",
       "Columns: [tree_picture, image_path, tree_dbh, PARENT_KEY, tape, measured_dbh, range, calculated]\n",
       "Index: []"
      ]
     },
     "execution_count": 26,
     "metadata": {},
     "output_type": "execute_result"
    }
   ],
   "source": [
    "# count t\n",
    "df_sample[df_sample['calculated'] == False].groupby('predicted_dbh').count()\n",
    "# the algorithm made a prediction for all the images"
   ]
  },
  {
   "cell_type": "code",
   "execution_count": 27,
   "metadata": {},
   "outputs": [
    {
     "data": {
      "text/html": [
       "<div>\n",
       "<style scoped>\n",
       "    .dataframe tbody tr th:only-of-type {\n",
       "        vertical-align: middle;\n",
       "    }\n",
       "\n",
       "    .dataframe tbody tr th {\n",
       "        vertical-align: top;\n",
       "    }\n",
       "\n",
       "    .dataframe thead th {\n",
       "        text-align: right;\n",
       "    }\n",
       "</style>\n",
       "<table border=\"1\" class=\"dataframe\">\n",
       "  <thead>\n",
       "    <tr style=\"text-align: right;\">\n",
       "      <th></th>\n",
       "      <th>tree_picture</th>\n",
       "      <th>image_path</th>\n",
       "      <th>tree_dbh</th>\n",
       "      <th>PARENT_KEY</th>\n",
       "      <th>tape</th>\n",
       "      <th>measured_dbh</th>\n",
       "      <th>range</th>\n",
       "      <th>predicted_dbh</th>\n",
       "      <th>calculated</th>\n",
       "    </tr>\n",
       "  </thead>\n",
       "  <tbody>\n",
       "  </tbody>\n",
       "</table>\n",
       "</div>"
      ],
      "text/plain": [
       "Empty DataFrame\n",
       "Columns: [tree_picture, image_path, tree_dbh, PARENT_KEY, tape, measured_dbh, range, predicted_dbh, calculated]\n",
       "Index: []"
      ]
     },
     "execution_count": 27,
     "metadata": {},
     "output_type": "execute_result"
    }
   ],
   "source": [
    "df_sample[df_sample['calculated'] == False]"
   ]
  },
  {
   "cell_type": "code",
   "execution_count": 28,
   "metadata": {},
   "outputs": [
    {
     "data": {
      "text/plain": [
       "144"
      ]
     },
     "execution_count": 28,
     "metadata": {},
     "output_type": "execute_result"
    }
   ],
   "source": [
    "df1 = df_sample[df_sample['predicted_dbh'].apply(isfloat)]\n",
    "#df1 = df1[df1['range'] != '0-05'] # remove less than 5 cm \n",
    "#df1 = df1[df1['range'] != '45+'] # remove above 45+ cm\n",
    "len(df1)"
   ]
  },
  {
   "cell_type": "code",
   "execution_count": 29,
   "metadata": {},
   "outputs": [
    {
     "data": {
      "text/html": [
       "<div>\n",
       "<style scoped>\n",
       "    .dataframe tbody tr th:only-of-type {\n",
       "        vertical-align: middle;\n",
       "    }\n",
       "\n",
       "    .dataframe tbody tr th {\n",
       "        vertical-align: top;\n",
       "    }\n",
       "\n",
       "    .dataframe thead th {\n",
       "        text-align: right;\n",
       "    }\n",
       "</style>\n",
       "<table border=\"1\" class=\"dataframe\">\n",
       "  <thead>\n",
       "    <tr style=\"text-align: right;\">\n",
       "      <th></th>\n",
       "      <th>tree_picture</th>\n",
       "      <th>image_path</th>\n",
       "      <th>tree_dbh</th>\n",
       "      <th>PARENT_KEY</th>\n",
       "      <th>tape</th>\n",
       "      <th>measured_dbh</th>\n",
       "      <th>predicted_dbh</th>\n",
       "      <th>calculated</th>\n",
       "    </tr>\n",
       "    <tr>\n",
       "      <th>range</th>\n",
       "      <th></th>\n",
       "      <th></th>\n",
       "      <th></th>\n",
       "      <th></th>\n",
       "      <th></th>\n",
       "      <th></th>\n",
       "      <th></th>\n",
       "      <th></th>\n",
       "    </tr>\n",
       "  </thead>\n",
       "  <tbody>\n",
       "    <tr>\n",
       "      <th>05-10</th>\n",
       "      <td>28</td>\n",
       "      <td>28</td>\n",
       "      <td>28</td>\n",
       "      <td>28</td>\n",
       "      <td>28</td>\n",
       "      <td>28</td>\n",
       "      <td>28</td>\n",
       "      <td>28</td>\n",
       "    </tr>\n",
       "    <tr>\n",
       "      <th>10-15</th>\n",
       "      <td>18</td>\n",
       "      <td>18</td>\n",
       "      <td>18</td>\n",
       "      <td>18</td>\n",
       "      <td>18</td>\n",
       "      <td>18</td>\n",
       "      <td>18</td>\n",
       "      <td>18</td>\n",
       "    </tr>\n",
       "    <tr>\n",
       "      <th>15-20</th>\n",
       "      <td>22</td>\n",
       "      <td>22</td>\n",
       "      <td>22</td>\n",
       "      <td>22</td>\n",
       "      <td>22</td>\n",
       "      <td>22</td>\n",
       "      <td>21</td>\n",
       "      <td>22</td>\n",
       "    </tr>\n",
       "    <tr>\n",
       "      <th>20-25</th>\n",
       "      <td>26</td>\n",
       "      <td>26</td>\n",
       "      <td>26</td>\n",
       "      <td>26</td>\n",
       "      <td>26</td>\n",
       "      <td>26</td>\n",
       "      <td>26</td>\n",
       "      <td>26</td>\n",
       "    </tr>\n",
       "    <tr>\n",
       "      <th>25-30</th>\n",
       "      <td>14</td>\n",
       "      <td>14</td>\n",
       "      <td>14</td>\n",
       "      <td>14</td>\n",
       "      <td>14</td>\n",
       "      <td>14</td>\n",
       "      <td>14</td>\n",
       "      <td>14</td>\n",
       "    </tr>\n",
       "    <tr>\n",
       "      <th>30-35</th>\n",
       "      <td>16</td>\n",
       "      <td>16</td>\n",
       "      <td>16</td>\n",
       "      <td>16</td>\n",
       "      <td>16</td>\n",
       "      <td>16</td>\n",
       "      <td>16</td>\n",
       "      <td>16</td>\n",
       "    </tr>\n",
       "    <tr>\n",
       "      <th>35-40</th>\n",
       "      <td>10</td>\n",
       "      <td>10</td>\n",
       "      <td>10</td>\n",
       "      <td>10</td>\n",
       "      <td>10</td>\n",
       "      <td>10</td>\n",
       "      <td>10</td>\n",
       "      <td>10</td>\n",
       "    </tr>\n",
       "    <tr>\n",
       "      <th>40-45</th>\n",
       "      <td>6</td>\n",
       "      <td>6</td>\n",
       "      <td>6</td>\n",
       "      <td>6</td>\n",
       "      <td>6</td>\n",
       "      <td>6</td>\n",
       "      <td>6</td>\n",
       "      <td>6</td>\n",
       "    </tr>\n",
       "    <tr>\n",
       "      <th>45+</th>\n",
       "      <td>4</td>\n",
       "      <td>4</td>\n",
       "      <td>4</td>\n",
       "      <td>4</td>\n",
       "      <td>4</td>\n",
       "      <td>4</td>\n",
       "      <td>4</td>\n",
       "      <td>4</td>\n",
       "    </tr>\n",
       "  </tbody>\n",
       "</table>\n",
       "</div>"
      ],
      "text/plain": [
       "       tree_picture  image_path  tree_dbh  PARENT_KEY  tape  measured_dbh  \\\n",
       "range                                                                       \n",
       "05-10            28          28        28          28    28            28   \n",
       "10-15            18          18        18          18    18            18   \n",
       "15-20            22          22        22          22    22            22   \n",
       "20-25            26          26        26          26    26            26   \n",
       "25-30            14          14        14          14    14            14   \n",
       "30-35            16          16        16          16    16            16   \n",
       "35-40            10          10        10          10    10            10   \n",
       "40-45             6           6         6           6     6             6   \n",
       "45+               4           4         4           4     4             4   \n",
       "\n",
       "       predicted_dbh  calculated  \n",
       "range                             \n",
       "05-10             28          28  \n",
       "10-15             18          18  \n",
       "15-20             21          22  \n",
       "20-25             26          26  \n",
       "25-30             14          14  \n",
       "30-35             16          16  \n",
       "35-40             10          10  \n",
       "40-45              6           6  \n",
       "45+                4           4  "
      ]
     },
     "execution_count": 29,
     "metadata": {},
     "output_type": "execute_result"
    }
   ],
   "source": [
    "# distribution of prediction dbh range\n",
    "df1.groupby('range').count()"
   ]
  },
  {
   "cell_type": "code",
   "execution_count": 30,
   "metadata": {},
   "outputs": [
    {
     "data": {
      "text/plain": [
       "143"
      ]
     },
     "execution_count": 30,
     "metadata": {},
     "output_type": "execute_result"
    }
   ],
   "source": [
    "# drop dataset with nan\n",
    "df1 = df1.dropna()\n",
    "len(df1)"
   ]
  },
  {
   "cell_type": "code",
   "execution_count": 31,
   "metadata": {},
   "outputs": [],
   "source": [
    "# Calculate error percentage\n",
    "def getErrorPercentage(predicted, measured):\n",
    "    return (abs(predicted - measured)/measured) * 100\n",
    "\n",
    "df1['Error_percentage'] = df1.apply(lambda x: getErrorPercentage(x['predicted_dbh'], x['measured_dbh']), axis=1)"
   ]
  },
  {
   "cell_type": "code",
   "execution_count": 32,
   "metadata": {},
   "outputs": [
    {
     "data": {
      "text/plain": [
       "143"
      ]
     },
     "execution_count": 32,
     "metadata": {},
     "output_type": "execute_result"
    }
   ],
   "source": [
    "# filter out dataset where trees were too small (i.e < 5cm)\n",
    "df2 = df1[df1['measured_dbh'] > 5]\n",
    "len(df1)"
   ]
  },
  {
   "cell_type": "code",
   "execution_count": 33,
   "metadata": {},
   "outputs": [
    {
     "name": "stdout",
     "output_type": "stream",
     "text": [
      "(array([103]),)\n"
     ]
    },
    {
     "data": {
      "image/png": "[encoded data removed]",
      "text/plain": [
       "<Figure size 432x288 with 1 Axes>"
      ]
     },
     "metadata": {
      "needs_background": "light"
     },
     "output_type": "display_data"
    }
   ],
   "source": [
    "#Remove outliers based on box plot of Error percentage\n",
    "sns.boxplot(df1['Error_percentage'].tolist())\n",
    "\n",
    "df3 = df1#[df2['residuals'].apply(notOutlier)]\n",
    "\n",
    "# Position of the Outlier\n",
    "print(np.where(df1['Error_percentage']>40))\n",
    "\n",
    "df3 = df1[df1['Error_percentage']<40]"
   ]
  },
  {
   "cell_type": "code",
   "execution_count": 34,
   "metadata": {},
   "outputs": [
    {
     "data": {
      "text/html": [
       "<div>\n",
       "<style scoped>\n",
       "    .dataframe tbody tr th:only-of-type {\n",
       "        vertical-align: middle;\n",
       "    }\n",
       "\n",
       "    .dataframe tbody tr th {\n",
       "        vertical-align: top;\n",
       "    }\n",
       "\n",
       "    .dataframe thead th {\n",
       "        text-align: right;\n",
       "    }\n",
       "</style>\n",
       "<table border=\"1\" class=\"dataframe\">\n",
       "  <thead>\n",
       "    <tr style=\"text-align: right;\">\n",
       "      <th></th>\n",
       "      <th>tree_picture</th>\n",
       "      <th>image_path</th>\n",
       "      <th>tree_dbh</th>\n",
       "      <th>PARENT_KEY</th>\n",
       "      <th>tape</th>\n",
       "      <th>measured_dbh</th>\n",
       "      <th>range</th>\n",
       "      <th>predicted_dbh</th>\n",
       "      <th>calculated</th>\n",
       "      <th>Error_percentage</th>\n",
       "    </tr>\n",
       "  </thead>\n",
       "  <tbody>\n",
       "    <tr>\n",
       "      <th>147</th>\n",
       "      <td>1675151881423.jpg</td>\n",
       "      <td>/Users/edwardamoah/Documents/GitHub/pv_mrv/sta...</td>\n",
       "      <td>9.2</td>\n",
       "      <td>uuid:5a1a3321-3df3-42e6-98d8-5b7e953d9cdc</td>\n",
       "      <td>diameter</td>\n",
       "      <td>9.2</td>\n",
       "      <td>05-10</td>\n",
       "      <td>35.93</td>\n",
       "      <td>True</td>\n",
       "      <td>290.543478</td>\n",
       "    </tr>\n",
       "  </tbody>\n",
       "</table>\n",
       "</div>"
      ],
      "text/plain": [
       "          tree_picture                                         image_path  \\\n",
       "147  1675151881423.jpg  /Users/edwardamoah/Documents/GitHub/pv_mrv/sta...   \n",
       "\n",
       "     tree_dbh                                 PARENT_KEY      tape  \\\n",
       "147       9.2  uuid:5a1a3321-3df3-42e6-98d8-5b7e953d9cdc  diameter   \n",
       "\n",
       "     measured_dbh  range  predicted_dbh  calculated  Error_percentage  \n",
       "147           9.2  05-10          35.93        True        290.543478  "
      ]
     },
     "execution_count": 34,
     "metadata": {},
     "output_type": "execute_result"
    }
   ],
   "source": [
    "# This image that was remove is one case where the data collected did no follow instructions. The image was taken very far from the tree. \n",
    "# The way in which this image was taken is not how the technology will be used in the field, hence we can justify removing this one outlier. \n",
    "df1[df1['Error_percentage']>40]"
   ]
  },
  {
   "cell_type": "code",
   "execution_count": 35,
   "metadata": {},
   "outputs": [
    {
     "name": "stdout",
     "output_type": "stream",
     "text": [
      "2.2258114519694407\n",
      "0.49394366197183087\n"
     ]
    },
    {
     "name": "stderr",
     "output_type": "stream",
     "text": [
      "/var/folders/t7/8xb6r8jx3_bd842lt0tnr6sr0000gn/T/ipykernel_20604/1038417224.py:9: SettingWithCopyWarning: \n",
      "A value is trying to be set on a copy of a slice from a DataFrame.\n",
      "Try using .loc[row_indexer,col_indexer] = value instead\n",
      "\n",
      "See the caveats in the documentation: https://pandas.pydata.org/pandas-docs/stable/user_guide/indexing.html#returning-a-view-versus-a-copy\n",
      "  df3['rmse'] = df3.apply(lambda x: calculateRMSE(x['predicted_dbh'], x['measured_dbh']), axis=1)\n",
      "/var/folders/t7/8xb6r8jx3_bd842lt0tnr6sr0000gn/T/ipykernel_20604/1038417224.py:13: SettingWithCopyWarning: \n",
      "A value is trying to be set on a copy of a slice from a DataFrame.\n",
      "Try using .loc[row_indexer,col_indexer] = value instead\n",
      "\n",
      "See the caveats in the documentation: https://pandas.pydata.org/pandas-docs/stable/user_guide/indexing.html#returning-a-view-versus-a-copy\n",
      "  df3['bias'] = df3.apply(lambda x: calculateBias(x['predicted_dbh'], x['measured_dbh']), axis=1)\n"
     ]
    }
   ],
   "source": [
    "# calculate the RMSE and bias for the prediction\n",
    "def calculateBias(pred, obs):\n",
    "    return pred - obs\n",
    "\n",
    "def calculateRMSE(pred, obs):\n",
    "\n",
    "    return math.pow(calculateBias(pred,obs),2)\n",
    "\n",
    "df3['rmse'] = df3.apply(lambda x: calculateRMSE(x['predicted_dbh'], x['measured_dbh']), axis=1)\n",
    "rmse =   math.sqrt(np.sum(df3['rmse'].tolist())/len(df3))\n",
    "print(rmse)\n",
    "\n",
    "df3['bias'] = df3.apply(lambda x: calculateBias(x['predicted_dbh'], x['measured_dbh']), axis=1)\n",
    "bias = np.sum(df3['bias'].tolist())/len(df3)\n",
    "print(bias)"
   ]
  },
  {
   "cell_type": "code",
   "execution_count": 36,
   "metadata": {},
   "outputs": [
    {
     "data": {
      "text/plain": [
       "Text(2, 30, 'RMSE = 2.23 ')"
      ]
     },
     "execution_count": 36,
     "metadata": {},
     "output_type": "execute_result"
    },
    {
     "data": {
      "image/png": "[encoded data removed]",
      "text/plain": [
       "<Figure size 432x288 with 1 Axes>"
      ]
     },
     "metadata": {
      "needs_background": "light"
     },
     "output_type": "display_data"
    }
   ],
   "source": [
    "# make residual plot for the corelation between predicted and measure dbh values\n",
    "x = np.array(df3['measured_dbh']); y = np.array( [ float(x) for x in df3['predicted_dbh']])\n",
    "a, b = np.polyfit(x, y , 1)\n",
    "\n",
    "plt.scatter(x, y, color='purple')\n",
    "plt.plot(x, a*x+b, linestyle='--', linewidth=2)\n",
    "plt.plot(np.arange(45), np.arange(45))\n",
    "plt.xlabel(\"Measured DBH (cm)\")\n",
    "plt.ylabel(\"Predicted DBH (cm)\")\n",
    "plt.title(f\"Predicted vs. Measured DBH (n={len(df3)})\")\n",
    "\n",
    "# add fitted regression equation to plot\n",
    "plt.text(2, 40, 'y = ' + '{:.2f}'.format(b) + ' + {:.2f}'.format(a) + 'x', size=10)\n",
    "\n",
    "# add the r2\n",
    "plt.text(2,35, f\"R\\u00b2 = {round(r2_score(x,y),2)} \", size=10)\n",
    "\n",
    "# add rmse\n",
    "plt.text(2,30, f\"RMSE = {round(rmse,2)} \", size=10)"
   ]
  },
  {
   "cell_type": "code",
   "execution_count": 38,
   "metadata": {},
   "outputs": [
    {
     "data": {
      "text/plain": [
       "Text(0, 0.5, 'Frequency')"
      ]
     },
     "execution_count": 38,
     "metadata": {},
     "output_type": "execute_result"
    },
    {
     "data": {
      "image/png": "[encoded data removed]",
      "text/plain": [
       "<Figure size 432x288 with 1 Axes>"
      ]
     },
     "metadata": {
      "needs_background": "light"
     },
     "output_type": "display_data"
    }
   ],
   "source": [
    "#Make a distribution plot for the dataset used for evaluation \n",
    "df3.groupby('range').count()['tree_picture'].plot.bar()\n",
    "plt.title(f'Distribution of Testing Dataset (n={len(df3)})')\n",
    "plt.xlabel(\"Measured DBH Range\")\n",
    "plt.ylabel(\"Frequency\")"
   ]
  },
  {
   "cell_type": "code",
   "execution_count": 39,
   "metadata": {},
   "outputs": [],
   "source": [
    "#df3[[\"measured_dbh\",\"predicted_dbh\"]].to_csv(\"dbh_algorithm_evaluation_dataset.csv\")"
   ]
  },
  {
   "cell_type": "code",
   "execution_count": 40,
   "metadata": {},
   "outputs": [
    {
     "name": "stderr",
     "output_type": "stream",
     "text": [
      "/var/folders/t7/8xb6r8jx3_bd842lt0tnr6sr0000gn/T/ipykernel_10466/2259229101.py:2: SettingWithCopyWarning: \n",
      "A value is trying to be set on a copy of a slice from a DataFrame.\n",
      "Try using .loc[row_indexer,col_indexer] = value instead\n",
      "\n",
      "See the caveats in the documentation: https://pandas.pydata.org/pandas-docs/stable/user_guide/indexing.html#returning-a-view-versus-a-copy\n",
      "  df3['residuals'] = df3['predicted_dbh'] - df3['measured_dbh']\n"
     ]
    }
   ],
   "source": [
    "# make a standardize residual plot for the model prediction\n",
    "df3['residuals'] = df3['predicted_dbh'] - df3['measured_dbh']\n",
    "# calculating the standardized residuals\n",
    "\n",
    "import statsmodels.api as sm\n",
    "\n",
    "#define response variable\n",
    "y = df3['predicted_dbh']\n",
    "y = [int(v) for v in y]\n",
    "\n",
    "#define explanatory variable\n",
    "x = df3['measured_dbh']\n",
    "\n",
    "#add constant to predictor variables\n",
    "x = sm.add_constant(x)\n",
    "\n",
    "#fit linear regression model\n",
    "model = sm.OLS(y, x).fit() \n",
    "\n",
    "#create instance of influence\n",
    "influence = model.get_influence()\n",
    "\n",
    "#obtain standardized residuals\n",
    "standardized_residuals = influence.resid_studentized_internal\n"
   ]
  },
  {
   "cell_type": "code",
   "execution_count": 41,
   "metadata": {},
   "outputs": [
    {
     "data": {
      "image/png": "[encoded data removed]",
      "text/plain": [
       "<Figure size 432x288 with 1 Axes>"
      ]
     },
     "metadata": {
      "needs_background": "light"
     },
     "output_type": "display_data"
    }
   ],
   "source": [
    "#plot standardized residual plot\n",
    "\n",
    "plt.scatter(df3['measured_dbh'], standardized_residuals)\n",
    "plt.xlabel('Measured DBH (cm)')\n",
    "plt.ylabel('Standardized Residuals')\n",
    "plt.axhline(y=0, color='black', linestyle='--', linewidth=1)\n",
    "plt.title(f\"Standardized Residual Plot  (n={len(df3)})\")\n",
    "plt.show()"
   ]
  },
  {
   "cell_type": "code",
   "execution_count": 42,
   "metadata": {},
   "outputs": [],
   "source": [
    "# Make a regression model for predicted vs measured dbh values with statsmodels\n",
    "import statsmodels.formula.api as smf\n",
    "\n",
    "\n",
    "model = smf.ols('predicted_dbh ~ measured_dbh', data=df3)\n",
    "model = model.fit()"
   ]
  },
  {
   "cell_type": "code",
   "execution_count": 43,
   "metadata": {},
   "outputs": [
    {
     "data": {
      "text/html": [
       "<table class=\"simpletable\">\n",
       "<caption>OLS Regression Results</caption>\n",
       "<tr>\n",
       "  <th>Dep. Variable:</th>      <td>predicted_dbh</td>  <th>  R-squared:         </th> <td>   0.968</td> \n",
       "</tr>\n",
       "<tr>\n",
       "  <th>Model:</th>                   <td>OLS</td>       <th>  Adj. R-squared:    </th> <td>   0.968</td> \n",
       "</tr>\n",
       "<tr>\n",
       "  <th>Method:</th>             <td>Least Squares</td>  <th>  F-statistic:       </th> <td>   4294.</td> \n",
       "</tr>\n",
       "<tr>\n",
       "  <th>Date:</th>             <td>Mon, 03 Apr 2023</td> <th>  Prob (F-statistic):</th> <td>6.18e-107</td>\n",
       "</tr>\n",
       "<tr>\n",
       "  <th>Time:</th>                 <td>13:04:51</td>     <th>  Log-Likelihood:    </th> <td> -305.78</td> \n",
       "</tr>\n",
       "<tr>\n",
       "  <th>No. Observations:</th>      <td>   142</td>      <th>  AIC:               </th> <td>   615.6</td> \n",
       "</tr>\n",
       "<tr>\n",
       "  <th>Df Residuals:</th>          <td>   140</td>      <th>  BIC:               </th> <td>   621.5</td> \n",
       "</tr>\n",
       "<tr>\n",
       "  <th>Df Model:</th>              <td>     1</td>      <th>                     </th>     <td> </td>    \n",
       "</tr>\n",
       "<tr>\n",
       "  <th>Covariance Type:</th>      <td>nonrobust</td>    <th>                     </th>     <td> </td>    \n",
       "</tr>\n",
       "</table>\n",
       "<table class=\"simpletable\">\n",
       "<tr>\n",
       "        <td></td>          <th>coef</th>     <th>std err</th>      <th>t</th>      <th>P>|t|</th>  <th>[0.025</th>    <th>0.975]</th>  \n",
       "</tr>\n",
       "<tr>\n",
       "  <th>Intercept</th>    <td>    1.5881</td> <td>    0.364</td> <td>    4.361</td> <td> 0.000</td> <td>    0.868</td> <td>    2.308</td>\n",
       "</tr>\n",
       "<tr>\n",
       "  <th>measured_dbh</th> <td>    0.9502</td> <td>    0.015</td> <td>   65.526</td> <td> 0.000</td> <td>    0.922</td> <td>    0.979</td>\n",
       "</tr>\n",
       "</table>\n",
       "<table class=\"simpletable\">\n",
       "<tr>\n",
       "  <th>Omnibus:</th>       <td>12.301</td> <th>  Durbin-Watson:     </th> <td>   1.626</td>\n",
       "</tr>\n",
       "<tr>\n",
       "  <th>Prob(Omnibus):</th> <td> 0.002</td> <th>  Jarque-Bera (JB):  </th> <td>  32.937</td>\n",
       "</tr>\n",
       "<tr>\n",
       "  <th>Skew:</th>          <td> 0.133</td> <th>  Prob(JB):          </th> <td>7.05e-08</td>\n",
       "</tr>\n",
       "<tr>\n",
       "  <th>Kurtosis:</th>      <td> 5.344</td> <th>  Cond. No.          </th> <td>    52.0</td>\n",
       "</tr>\n",
       "</table><br/><br/>Notes:<br/>[1] Standard Errors assume that the covariance matrix of the errors is correctly specified."
      ],
      "text/plain": [
       "<class 'statsmodels.iolib.summary.Summary'>\n",
       "\"\"\"\n",
       "                            OLS Regression Results                            \n",
       "==============================================================================\n",
       "Dep. Variable:          predicted_dbh   R-squared:                       0.968\n",
       "Model:                            OLS   Adj. R-squared:                  0.968\n",
       "Method:                 Least Squares   F-statistic:                     4294.\n",
       "Date:                Mon, 03 Apr 2023   Prob (F-statistic):          6.18e-107\n",
       "Time:                        13:04:51   Log-Likelihood:                -305.78\n",
       "No. Observations:                 142   AIC:                             615.6\n",
       "Df Residuals:                     140   BIC:                             621.5\n",
       "Df Model:                           1                                         \n",
       "Covariance Type:            nonrobust                                         \n",
       "================================================================================\n",
       "                   coef    std err          t      P>|t|      [0.025      0.975]\n",
       "--------------------------------------------------------------------------------\n",
       "Intercept        1.5881      0.364      4.361      0.000       0.868       2.308\n",
       "measured_dbh     0.9502      0.015     65.526      0.000       0.922       0.979\n",
       "==============================================================================\n",
       "Omnibus:                       12.301   Durbin-Watson:                   1.626\n",
       "Prob(Omnibus):                  0.002   Jarque-Bera (JB):               32.937\n",
       "Skew:                           0.133   Prob(JB):                     7.05e-08\n",
       "Kurtosis:                       5.344   Cond. No.                         52.0\n",
       "==============================================================================\n",
       "\n",
       "Notes:\n",
       "[1] Standard Errors assume that the covariance matrix of the errors is correctly specified.\n",
       "\"\"\""
      ]
     },
     "execution_count": 43,
     "metadata": {},
     "output_type": "execute_result"
    }
   ],
   "source": [
    "# show model summary to get values for intercepts and significance at 0.05 \n",
    "model.summary()"
   ]
  },
  {
   "cell_type": "code",
   "execution_count": 46,
   "metadata": {},
   "outputs": [],
   "source": [
    "# save evaluation dataset\n",
    "#df3[[\"tree_picture\",\"predicted_dbh\",\"measured_dbh\"]].to_csv(\"output/dbh_algorithm_evaluation_dataset.csv\")"
   ]
  },
  {
   "cell_type": "code",
   "execution_count": null,
   "metadata": {},
   "outputs": [],
   "source": []
  }
 ],
 "metadata": {
  "kernelspec": {
   "display_name": "geoanalysis_env",
   "language": "python",
   "name": "python3"
  },
  "language_info": {
   "codemirror_mode": {
    "name": "ipython",
    "version": 3
   },
   "file_extension": ".py",
   "mimetype": "text/x-python",
   "name": "python",
   "nbconvert_exporter": "python",
   "pygments_lexer": "ipython3",
   "version": "3.10.6"
  },
  "orig_nbformat": 4,
  "vscode": {
   "interpreter": {
    "hash": "cf42623c1a7f1fa2849c8c849cef8c1b60c1d45f5f3a3ca8083cf8d43379eaf5"
   }
  }
 },
 "nbformat": 4,
 "nbformat_minor": 2
}
