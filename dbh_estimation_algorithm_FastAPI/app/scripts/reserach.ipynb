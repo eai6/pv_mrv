{
 "cells": [
  {
   "cell_type": "code",
   "execution_count": 4,
   "metadata": {},
   "outputs": [],
   "source": [
    "from PIL import Image\n",
    "\n",
    "def slice_image(input_path, output_path, num_slices):\n",
    "    # Open the image\n",
    "    img = Image.open(input_path)\n",
    "\n",
    "    # Get the dimensions of the image\n",
    "    width, height = img.size\n",
    "\n",
    "    # Calculate the width and height of each slice\n",
    "    slice_width = width // num_slices\n",
    "    slice_height = height // num_slices\n",
    "\n",
    "    files = []\n",
    "\n",
    "    for i in range(num_slices):\n",
    "        for j in range(num_slices):\n",
    "            # Calculate the coordinates for each slice\n",
    "            left = i * slice_width\n",
    "            upper = j * slice_height\n",
    "            right = (i + 1) * slice_width\n",
    "            lower = (j + 1) * slice_height\n",
    "\n",
    "            # Crop and save each slice\n",
    "            slice_img = img.crop((left, upper, right, lower))\n",
    "            slice_img.save(f\"{output_path}/slice_{i}_{j}.png\")\n",
    "            files.append(f\"{output_folder_path}/slice_{i}_{j}.png\")\n",
    "\n",
    "    return files\n",
    "\n",
    "# Example usage:\n",
    "input_image_path = \"/Users/edwardamoah/Documents/GitHub/pv_mrv/dbh_estimation_algorithm_FastAPI/app/data/outputs/zoomed_img_1675844996526.png\"\n",
    "output_folder_path = \"/Users/edwardamoah/Documents/GitHub/pv_mrv/dbh_estimation_algorithm_FastAPI/app/data/slicer_temp_output\"\n",
    "num_slices = 3  # You can adjust this based on how many slices you want\n",
    "\n",
    "files = slice_image(input_image_path, output_folder_path, num_slices)\n"
   ]
  },
  {
   "cell_type": "code",
   "execution_count": 5,
   "metadata": {},
   "outputs": [
    {
     "data": {
      "text/plain": [
       "['/Users/edwardamoah/Documents/GitHub/pv_mrv/dbh_estimation_algorithm_FastAPI/app/data/slicer_temp_output/slice_0_0.png',\n",
       " '/Users/edwardamoah/Documents/GitHub/pv_mrv/dbh_estimation_algorithm_FastAPI/app/data/slicer_temp_output/slice_0_1.png',\n",
       " '/Users/edwardamoah/Documents/GitHub/pv_mrv/dbh_estimation_algorithm_FastAPI/app/data/slicer_temp_output/slice_0_2.png',\n",
       " '/Users/edwardamoah/Documents/GitHub/pv_mrv/dbh_estimation_algorithm_FastAPI/app/data/slicer_temp_output/slice_1_0.png',\n",
       " '/Users/edwardamoah/Documents/GitHub/pv_mrv/dbh_estimation_algorithm_FastAPI/app/data/slicer_temp_output/slice_1_1.png',\n",
       " '/Users/edwardamoah/Documents/GitHub/pv_mrv/dbh_estimation_algorithm_FastAPI/app/data/slicer_temp_output/slice_1_2.png',\n",
       " '/Users/edwardamoah/Documents/GitHub/pv_mrv/dbh_estimation_algorithm_FastAPI/app/data/slicer_temp_output/slice_2_0.png',\n",
       " '/Users/edwardamoah/Documents/GitHub/pv_mrv/dbh_estimation_algorithm_FastAPI/app/data/slicer_temp_output/slice_2_1.png',\n",
       " '/Users/edwardamoah/Documents/GitHub/pv_mrv/dbh_estimation_algorithm_FastAPI/app/data/slicer_temp_output/slice_2_2.png']"
      ]
     },
     "execution_count": 5,
     "metadata": {},
     "output_type": "execute_result"
    }
   ],
   "source": [
    "files"
   ]
  },
  {
   "cell_type": "code",
   "execution_count": null,
   "metadata": {},
   "outputs": [],
   "source": []
  }
 ],
 "metadata": {
  "kernelspec": {
   "display_name": "geoanalysis_env",
   "language": "python",
   "name": "python3"
  },
  "language_info": {
   "codemirror_mode": {
    "name": "ipython",
    "version": 3
   },
   "file_extension": ".py",
   "mimetype": "text/x-python",
   "name": "python",
   "nbconvert_exporter": "python",
   "pygments_lexer": "ipython3",
   "version": "3.10.6"
  }
 },
 "nbformat": 4,
 "nbformat_minor": 2
}
