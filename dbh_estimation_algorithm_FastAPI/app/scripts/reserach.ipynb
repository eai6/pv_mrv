{
 "cells": [
  {
   "cell_type": "code",
   "execution_count": 1,
   "metadata": {},
   "outputs": [
    {
     "ename": "FileNotFoundError",
     "evalue": "[Errno 2] No such file or directory: '/Users/edwardamoah/Documents/GitHub/pv_mrv/dbh_estimation_algorithm_FastAPI/app/data/outputs/zoomed_img_1675844996526.png'",
     "output_type": "error",
     "traceback": [
      "\u001b[0;31m---------------------------------------------------------------------------\u001b[0m",
      "\u001b[0;31mFileNotFoundError\u001b[0m                         Traceback (most recent call last)",
      "\u001b[1;32m/Users/edwardamoah/Documents/GitHub/pv_mrv/dbh_estimation_algorithm_FastAPI/app/scripts/reserach.ipynb Cell 1\u001b[0m line \u001b[0;36m<cell line: 36>\u001b[0;34m()\u001b[0m\n\u001b[1;32m     <a href='vscode-notebook-cell:/Users/edwardamoah/Documents/GitHub/pv_mrv/dbh_estimation_algorithm_FastAPI/app/scripts/reserach.ipynb#W0sZmlsZQ%3D%3D?line=32'>33</a>\u001b[0m output_folder_path \u001b[39m=\u001b[39m \u001b[39m\"\u001b[39m\u001b[39m/Users/edwardamoah/Documents/GitHub/pv_mrv/dbh_estimation_algorithm_FastAPI/app/data/slicer_temp_output\u001b[39m\u001b[39m\"\u001b[39m\n\u001b[1;32m     <a href='vscode-notebook-cell:/Users/edwardamoah/Documents/GitHub/pv_mrv/dbh_estimation_algorithm_FastAPI/app/scripts/reserach.ipynb#W0sZmlsZQ%3D%3D?line=33'>34</a>\u001b[0m num_slices \u001b[39m=\u001b[39m \u001b[39m3\u001b[39m  \u001b[39m# You can adjust this based on how many slices you want\u001b[39;00m\n\u001b[0;32m---> <a href='vscode-notebook-cell:/Users/edwardamoah/Documents/GitHub/pv_mrv/dbh_estimation_algorithm_FastAPI/app/scripts/reserach.ipynb#W0sZmlsZQ%3D%3D?line=35'>36</a>\u001b[0m files \u001b[39m=\u001b[39m slice_image(input_image_path, output_folder_path, num_slices)\n",
      "\u001b[1;32m/Users/edwardamoah/Documents/GitHub/pv_mrv/dbh_estimation_algorithm_FastAPI/app/scripts/reserach.ipynb Cell 1\u001b[0m line \u001b[0;36mslice_image\u001b[0;34m(input_path, output_path, num_slices)\u001b[0m\n\u001b[1;32m      <a href='vscode-notebook-cell:/Users/edwardamoah/Documents/GitHub/pv_mrv/dbh_estimation_algorithm_FastAPI/app/scripts/reserach.ipynb#W0sZmlsZQ%3D%3D?line=2'>3</a>\u001b[0m \u001b[39mdef\u001b[39;00m \u001b[39mslice_image\u001b[39m(input_path, output_path, num_slices):\n\u001b[1;32m      <a href='vscode-notebook-cell:/Users/edwardamoah/Documents/GitHub/pv_mrv/dbh_estimation_algorithm_FastAPI/app/scripts/reserach.ipynb#W0sZmlsZQ%3D%3D?line=3'>4</a>\u001b[0m     \u001b[39m# Open the image\u001b[39;00m\n\u001b[0;32m----> <a href='vscode-notebook-cell:/Users/edwardamoah/Documents/GitHub/pv_mrv/dbh_estimation_algorithm_FastAPI/app/scripts/reserach.ipynb#W0sZmlsZQ%3D%3D?line=4'>5</a>\u001b[0m     img \u001b[39m=\u001b[39m Image\u001b[39m.\u001b[39;49mopen(input_path)\n\u001b[1;32m      <a href='vscode-notebook-cell:/Users/edwardamoah/Documents/GitHub/pv_mrv/dbh_estimation_algorithm_FastAPI/app/scripts/reserach.ipynb#W0sZmlsZQ%3D%3D?line=6'>7</a>\u001b[0m     \u001b[39m# Get the dimensions of the image\u001b[39;00m\n\u001b[1;32m      <a href='vscode-notebook-cell:/Users/edwardamoah/Documents/GitHub/pv_mrv/dbh_estimation_algorithm_FastAPI/app/scripts/reserach.ipynb#W0sZmlsZQ%3D%3D?line=7'>8</a>\u001b[0m     width, height \u001b[39m=\u001b[39m img\u001b[39m.\u001b[39msize\n",
      "File \u001b[0;32m~/opt/anaconda3/envs/geoanalysis_env/lib/python3.10/site-packages/PIL/Image.py:3092\u001b[0m, in \u001b[0;36mopen\u001b[0;34m(fp, mode, formats)\u001b[0m\n\u001b[1;32m   3089\u001b[0m     filename \u001b[39m=\u001b[39m fp\n\u001b[1;32m   3091\u001b[0m \u001b[39mif\u001b[39;00m filename:\n\u001b[0;32m-> 3092\u001b[0m     fp \u001b[39m=\u001b[39m builtins\u001b[39m.\u001b[39;49mopen(filename, \u001b[39m\"\u001b[39;49m\u001b[39mrb\u001b[39;49m\u001b[39m\"\u001b[39;49m)\n\u001b[1;32m   3093\u001b[0m     exclusive_fp \u001b[39m=\u001b[39m \u001b[39mTrue\u001b[39;00m\n\u001b[1;32m   3095\u001b[0m \u001b[39mtry\u001b[39;00m:\n",
      "\u001b[0;31mFileNotFoundError\u001b[0m: [Errno 2] No such file or directory: '/Users/edwardamoah/Documents/GitHub/pv_mrv/dbh_estimation_algorithm_FastAPI/app/data/outputs/zoomed_img_1675844996526.png'"
     ]
    }
   ],
   "source": [
    "from PIL import Image\n",
    "\n",
    "def slice_image(input_path, output_path, num_slices):\n",
    "    # Open the image\n",
    "    img = Image.open(input_path)\n",
    "\n",
    "    # Get the dimensions of the image\n",
    "    width, height = img.size\n",
    "\n",
    "    # Calculate the width and height of each slice\n",
    "    slice_width = width // num_slices\n",
    "    slice_height = height // num_slices\n",
    "\n",
    "    files = []\n",
    "\n",
    "    for i in range(num_slices):\n",
    "        for j in range(num_slices):\n",
    "            # Calculate the coordinates for each slice\n",
    "            left = i * slice_width\n",
    "            upper = j * slice_height\n",
    "            right = (i + 1) * slice_width\n",
    "            lower = (j + 1) * slice_height\n",
    "\n",
    "            # Crop and save each slice\n",
    "            slice_img = img.crop((left, upper, right, lower))\n",
    "            slice_img.save(f\"{output_path}/slice_{i}_{j}.png\")\n",
    "            files.append(f\"{output_folder_path}/slice_{i}_{j}.png\")\n",
    "\n",
    "    return files\n",
    "\n",
    "# Example usage:\n",
    "input_image_path = \"/Users/edwardamoah/Documents/GitHub/pv_mrv/dbh_estimation_algorithm_FastAPI/app/data/outputs/zoomed_img_1675844996526.png\"\n",
    "output_folder_path = \"/Users/edwardamoah/Documents/GitHub/pv_mrv/dbh_estimation_algorithm_FastAPI/app/data/slicer_temp_output\"\n",
    "num_slices = 3  # You can adjust this based on how many slices you want\n",
    "\n",
    "files = slice_image(input_image_path, output_folder_path, num_slices)\n"
   ]
  },
  {
   "cell_type": "code",
   "execution_count": null,
   "metadata": {},
   "outputs": [],
   "source": [
    "files"
   ]
  },
  {
   "cell_type": "code",
   "execution_count": 2,
   "metadata": {},
   "outputs": [],
   "source": [
    "from image_slicer import Tile, slice as slice_image"
   ]
  },
  {
   "cell_type": "code",
   "execution_count": null,
   "metadata": {},
   "outputs": [],
   "source": [
    "!pip install image_slicer"
   ]
  },
  {
   "cell_type": "code",
   "execution_count": null,
   "metadata": {},
   "outputs": [],
   "source": [
    "from image_slicer import Tile, slice as slice_image"
   ]
  },
  {
   "cell_type": "code",
   "execution_count": null,
   "metadata": {},
   "outputs": [],
   "source": [
    "import os"
   ]
  },
  {
   "cell_type": "code",
   "execution_count": null,
   "metadata": {},
   "outputs": [],
   "source": [
    "os.system('pwd')"
   ]
  },
  {
   "cell_type": "code",
   "execution_count": null,
   "metadata": {},
   "outputs": [],
   "source": [
    "slice_image('/Users/edwardamoah/Downloads/PXL_20231107_155341324.MP.jpg', 9)"
   ]
  },
  {
   "cell_type": "code",
   "execution_count": 14,
   "metadata": {},
   "outputs": [
    {
     "name": "stdout",
     "output_type": "stream",
     "text": [
      "Sliced tiles saved at: ['/Users/edwardamoah/Documents/GitHub/pv_mrv/dbh_estimation_algorithm_FastAPI/app/data/tiles/tile_0_0.jpg', '/Users/edwardamoah/Documents/GitHub/pv_mrv/dbh_estimation_algorithm_FastAPI/app/data/tiles/tile_0_1.jpg', '/Users/edwardamoah/Documents/GitHub/pv_mrv/dbh_estimation_algorithm_FastAPI/app/data/tiles/tile_0_2.jpg', '/Users/edwardamoah/Documents/GitHub/pv_mrv/dbh_estimation_algorithm_FastAPI/app/data/tiles/tile_1_0.jpg', '/Users/edwardamoah/Documents/GitHub/pv_mrv/dbh_estimation_algorithm_FastAPI/app/data/tiles/tile_1_1.jpg', '/Users/edwardamoah/Documents/GitHub/pv_mrv/dbh_estimation_algorithm_FastAPI/app/data/tiles/tile_1_2.jpg', '/Users/edwardamoah/Documents/GitHub/pv_mrv/dbh_estimation_algorithm_FastAPI/app/data/tiles/tile_2_0.jpg', '/Users/edwardamoah/Documents/GitHub/pv_mrv/dbh_estimation_algorithm_FastAPI/app/data/tiles/tile_2_1.jpg', '/Users/edwardamoah/Documents/GitHub/pv_mrv/dbh_estimation_algorithm_FastAPI/app/data/tiles/tile_2_2.jpg']\n"
     ]
    }
   ],
   "source": [
    "from PIL import Image\n",
    "import os\n",
    "\n",
    "def slice_image(input_image_path, output_directory, num_tiles):\n",
    "    \"\"\"\n",
    "    Slice the input image into the specified number of tiles.\n",
    "\n",
    "    Parameters:\n",
    "    - input_image_path: Path to the input image file.\n",
    "    - output_directory: Directory to save the sliced tiles.\n",
    "    - num_tiles: Number of tiles to create.\n",
    "\n",
    "    Returns:\n",
    "    - List of paths to the sliced tiles.\n",
    "    \"\"\"\n",
    "    # get extension of input image\n",
    "    extension = os.path.splitext(input_image_path)[1]\n",
    "    \n",
    "    # Open the input image\n",
    "    img = Image.open(input_image_path)\n",
    "\n",
    "    # Create output directory if it doesn't exist\n",
    "    if not os.path.exists(output_directory):\n",
    "        os.makedirs(output_directory)\n",
    "\n",
    "    # Get image dimensions\n",
    "    width, height = img.size\n",
    "\n",
    "    # Calculate tile size\n",
    "    tile_width = width // num_tiles\n",
    "    tile_height = height // num_tiles\n",
    "\n",
    "    # List to store paths of sliced tiles\n",
    "    sliced_tiles = []\n",
    "\n",
    "    # Iterate over rows and columns to slice the image\n",
    "    for i in range(num_tiles):\n",
    "        for j in range(num_tiles):\n",
    "            # Calculate coordinates for cropping each tile\n",
    "            left = j * tile_width\n",
    "            upper = i * tile_height\n",
    "            right = left + tile_width\n",
    "            lower = upper + tile_height\n",
    "\n",
    "            # Crop the tile\n",
    "            tile = img.crop((left, upper, right, lower))\n",
    "\n",
    "            # Save the tile to the output directory\n",
    "            tile_path = os.path.join(output_directory, f\"tile_{i}_{j}{extension}\")\n",
    "            tile.save(tile_path)\n",
    "\n",
    "            # Append the path to the list\n",
    "            sliced_tiles.append(tile_path)\n",
    "\n",
    "    return sliced_tiles\n",
    "\n",
    "# Example usage:\n",
    "input_image_path = \"/Users/edwardamoah/Desktop/1675065957914.jpg\"\n",
    "output_directory = \"/Users/edwardamoah/Documents/GitHub/pv_mrv/dbh_estimation_algorithm_FastAPI/app/data/tiles\"\n",
    "num_tiles = 3  # Adjust as needed\n",
    "\n",
    "result = slice_image(input_image_path, output_directory, num_tiles)\n",
    "print(\"Sliced tiles saved at:\", result)\n"
   ]
  },
  {
   "cell_type": "code",
   "execution_count": 7,
   "metadata": {},
   "outputs": [
    {
     "data": {
      "text/plain": [
       "['/Users/edwardamoah/Documents/GitHub/pv_mrv/dbh_estimation_algorithm_FastAPI/app/data/tiles/tile_0_0.png',\n",
       " '/Users/edwardamoah/Documents/GitHub/pv_mrv/dbh_estimation_algorithm_FastAPI/app/data/tiles/tile_0_1.png',\n",
       " '/Users/edwardamoah/Documents/GitHub/pv_mrv/dbh_estimation_algorithm_FastAPI/app/data/tiles/tile_0_2.png',\n",
       " '/Users/edwardamoah/Documents/GitHub/pv_mrv/dbh_estimation_algorithm_FastAPI/app/data/tiles/tile_1_0.png',\n",
       " '/Users/edwardamoah/Documents/GitHub/pv_mrv/dbh_estimation_algorithm_FastAPI/app/data/tiles/tile_1_1.png',\n",
       " '/Users/edwardamoah/Documents/GitHub/pv_mrv/dbh_estimation_algorithm_FastAPI/app/data/tiles/tile_1_2.png',\n",
       " '/Users/edwardamoah/Documents/GitHub/pv_mrv/dbh_estimation_algorithm_FastAPI/app/data/tiles/tile_2_0.png',\n",
       " '/Users/edwardamoah/Documents/GitHub/pv_mrv/dbh_estimation_algorithm_FastAPI/app/data/tiles/tile_2_1.png',\n",
       " '/Users/edwardamoah/Documents/GitHub/pv_mrv/dbh_estimation_algorithm_FastAPI/app/data/tiles/tile_2_2.png']"
      ]
     },
     "execution_count": 7,
     "metadata": {},
     "output_type": "execute_result"
    }
   ],
   "source": [
    "result"
   ]
  },
  {
   "cell_type": "code",
   "execution_count": 24,
   "metadata": {},
   "outputs": [
    {
     "name": "stdout",
     "output_type": "stream",
     "text": [
      "jpg\n",
      "Combined image saved at: /Users/edwardamoah/Documents/GitHub/pv_mrv/dbh_estimation_algorithm_FastAPI/app/data/outputs/combined_image.png\n"
     ]
    }
   ],
   "source": [
    "from PIL import Image\n",
    "import os\n",
    "\n",
    "def combine_tiles(tiles_directory, output_image_path, num_tiles):\n",
    "    \"\"\"\n",
    "    Combine sliced tiles into a single image.\n",
    "\n",
    "    Parameters:\n",
    "    - tiles_directory: Directory containing the sliced tiles.\n",
    "    - output_image_path: Path to save the combined image.\n",
    "    - num_tiles: Number of tiles per row and column.\n",
    "\n",
    "    Returns:\n",
    "    - Path to the combined image.\n",
    "    \"\"\"\n",
    "    # Create a list to store the tiles\n",
    "    tiles = []\n",
    "\n",
    "    # get extension of input image\n",
    "    extension = os.listdir(tiles_directory)[0].split('.')[-1]\n",
    "    print(extension)\n",
    "\n",
    "    # Load each tile and append to the list\n",
    "    for i in range(num_tiles):\n",
    "        for j in range(num_tiles):\n",
    "            tile_path = os.path.join(tiles_directory, f\"tile_{i}_{j}.{extension}\")\n",
    "            tile = Image.open(tile_path)\n",
    "            tiles.append(tile)\n",
    "\n",
    "    # Calculate the dimensions of the combined image\n",
    "    tile_width, tile_height = tiles[0].size\n",
    "    total_width = tile_width * num_tiles\n",
    "    total_height = tile_height * num_tiles\n",
    "\n",
    "    # Create a new image with the calculated dimensions\n",
    "    combined_image = Image.new(\"RGB\", (total_width, total_height))\n",
    "\n",
    "    # Paste each tile onto the combined image\n",
    "    for i in range(num_tiles):\n",
    "        for j in range(num_tiles):\n",
    "            left = j * tile_width\n",
    "            upper = i * tile_height\n",
    "            combined_image.paste(tiles[i * num_tiles + j], (left, upper))\n",
    "\n",
    "    # Save the combined image\n",
    "    combined_image.save(output_image_path)\n",
    "\n",
    "    return output_image_path\n",
    "\n",
    "# Example usage:\n",
    "tiles_directory = \"/Users/edwardamoah/Documents/GitHub/pv_mrv/dbh_estimation_algorithm_FastAPI/app/data/tiles\"\n",
    "output_image_path = \"/Users/edwardamoah/Documents/GitHub/pv_mrv/dbh_estimation_algorithm_FastAPI/app/data/outputs/combined_image.png\"\n",
    "num_tiles = 3  # Adjust as needed\n",
    "\n",
    "result = combine_tiles(tiles_directory, output_image_path, num_tiles)\n",
    "print(\"Combined image saved at:\", result)\n"
   ]
  },
  {
   "cell_type": "code",
   "execution_count": 21,
   "metadata": {},
   "outputs": [
    {
     "data": {
      "text/plain": [
       "'jpg'"
      ]
     },
     "execution_count": 21,
     "metadata": {},
     "output_type": "execute_result"
    }
   ],
   "source": [
    "os.listdir(tiles_directory)[0].split('.')[0-1]"
   ]
  },
  {
   "cell_type": "code",
   "execution_count": 11,
   "metadata": {},
   "outputs": [
    {
     "name": "stdout",
     "output_type": "stream",
     "text": [
      ".jpg\n"
     ]
    }
   ],
   "source": [
    "input_image_path = \"/Users/edwardamoah/Desktop/1675065957914.jpg\"\n",
    "extension = os.path.splitext(input_image_path)[1]\n",
    "print(extension)"
   ]
  },
  {
   "cell_type": "code",
   "execution_count": null,
   "metadata": {},
   "outputs": [],
   "source": []
  }
 ],
 "metadata": {
  "kernelspec": {
   "display_name": "geoanalysis_env",
   "language": "python",
   "name": "python3"
  },
  "language_info": {
   "codemirror_mode": {
    "name": "ipython",
    "version": 3
   },
   "file_extension": ".py",
   "mimetype": "text/x-python",
   "name": "python",
   "nbconvert_exporter": "python",
   "pygments_lexer": "ipython3",
   "version": "3.10.6"
  }
 },
 "nbformat": 4,
 "nbformat_minor": 2
}
